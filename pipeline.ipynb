{
  "nbformat": 4,
  "nbformat_minor": 0,
  "metadata": {
    "colab": {
      "name": "pipeline.ipynb",
      "provenance": [],
      "collapsed_sections": [],
      "toc_visible": true,
      "mount_file_id": "1HDQdy4Unlu8WF4L-xQ8qQRgR-NRNjD9K",
      "authorship_tag": "ABX9TyPeXUQHxeBozMxBdab3qZ43",
      "include_colab_link": true
    },
    "kernelspec": {
      "name": "python3",
      "display_name": "Python 3"
    }
  },
  "cells": [
    {
      "cell_type": "markdown",
      "metadata": {
        "id": "view-in-github",
        "colab_type": "text"
      },
      "source": [
        "<a href=\"https://colab.research.google.com/github/YYx00xZZ/colabBackup/blob/master/pipeline.ipynb\" target=\"_parent\"><img src=\"https://colab.research.google.com/assets/colab-badge.svg\" alt=\"Open In Colab\"/></a>"
      ]
    },
    {
      "cell_type": "markdown",
      "metadata": {
        "id": "jfOrv2hI-xw-"
      },
      "source": [
        "# https://machinelearningmastery.com/how-to-predict-whether-eyes-are-open-or-closed-using-brain-waves/\n",
        "\n",
        "# https://academic.oup.com/gigascience/article/6/7/gix034/3796323\n",
        "\n",
        "### http://gigadb.org/dataset/view/id/100295/Sample_page/5"
      ]
    },
    {
      "cell_type": "markdown",
      "metadata": {
        "id": "knA-PycIvxSi"
      },
      "source": [
        "    'time_size' : 128, # row count for 1 sec\n",
        "    'offset' : 0.75, # Отместване в секунди на началото на всяка епоха; ! Cqlo chislo ili gurmi\n",
        "    'epoch' : 3, # Дължина на епохата по време на експеримента в сек\n",
        "    \n",
        "    # Да се добавят стойности\n",
        "    'chunk_duration_sec_IN' : None, # Дължина на епохата по време на експеримента\n",
        "    'epoch_duration_IN' : None, # дължина на епохата в редове"
      ]
    },
    {
      "cell_type": "code",
      "metadata": {
        "id": "oHtroqXB74_A"
      },
      "source": [
        "import numpy as np\n",
        "import pandas as pd\n",
        "from scipy.signal import butter, lfilter\n",
        "import plotly.graph_objects as go\n",
        "import matplotlib.pyplot as plt\n",
        "from plotly import tools\n",
        "from scipy import signal\n",
        "from plotly.graph_objects import Layout, YAxis, Scatter, Annotation, Annotations, Data, Figure, Marker, Font\n",
        "%matplotlib inline"
      ],
      "execution_count": null,
      "outputs": []
    },
    {
      "cell_type": "code",
      "metadata": {
        "id": "k7cICjqm4v4x"
      },
      "source": [
        "# plt.rcParams['figure.figsize'] = [16, 9]"
      ],
      "execution_count": null,
      "outputs": []
    },
    {
      "cell_type": "markdown",
      "metadata": {
        "id": "OchwDW2OqH7g"
      },
      "source": [
        "# DATA CLEANING\n"
      ]
    },
    {
      "cell_type": "code",
      "metadata": {
        "id": "dyGLi4wLUK07"
      },
      "source": [
        "# ## Друг начин за генериране на time vector: \n",
        "# fs = 128\n",
        "# times = create_times(len(sig)/fs, fs)\n"
      ],
      "execution_count": null,
      "outputs": []
    },
    {
      "cell_type": "code",
      "metadata": {
        "id": "tsY2ef6aesG8"
      },
      "source": [
        ""
      ],
      "execution_count": null,
      "outputs": []
    },
    {
      "cell_type": "markdown",
      "metadata": {
        "id": "ixWhyLYzesqw"
      },
      "source": [
        "### Промяна в начина по който третираме празните полета в колона `EventId`"
      ]
    },
    {
      "cell_type": "markdown",
      "metadata": {
        "id": "kRtwEXLLbI-J"
      },
      "source": [
        "## важно (unique() ids)\n",
        "\n",
        "### Нужна е промяна в метода на обработка на колона EventId. Редове със стойност - `32780:32778:800`, `768:786` или `33282:768` биват изтрити.\n",
        "В един момент от времето - няколко евента  \n",
        "1. Добавяме колона и разделяме евентите в две колони ,например редове с код за ляво и дясно - `EventId`, `experiment_info` съдържаща останалите.\n",
        "2. Времева стъпка, разширение\n"
      ]
    },
    {
      "cell_type": "markdown",
      "metadata": {
        "id": "myHpq9Qz2Og7"
      },
      "source": [
        "# config & predefined funcs"
      ]
    },
    {
      "cell_type": "code",
      "metadata": {
        "id": "XfKs_Ur77mWI"
      },
      "source": [
        "target_url = \"/content/drive/My Drive/Python_Reserch/Dimi_Data/2_KA_VisualnaStimulaciq_14ch.csv\"\n",
        "all_cols = ['Time128Hz', 'Epoch', 'AF3', 'F7', 'F3', 'FC5', 'T7', 'P7', 'O1', 'O2', 'P8', 'T8', 'FC6', 'F4', 'F8', 'AF4', 'EventId', 'EventDate', 'EventDuration']\n",
        "# channel_columns = ['AF3', 'F7', 'F3', 'FC5', 'T7', 'P7', 'O1', 'O2', 'P8', 'T8', 'FC6', 'F4', 'F8', 'AF4']\n",
        "channel_columns = ['AF3', 'F7', 'F3', 'FC5', 'T7', 'P7', 'O1', 'O2', 'P8', 'T8', 'FC6', 'F4', 'F8', 'AF4']\n",
        "# 32780:32778:800\n",
        " \n",
        "stimulation_codes = {\n",
        "        '33025': 'OVTK_StimulationId_Label_01',\n",
        "        '33026': 'OVTK_StimulationId_Label_02',\n",
        "        '32769': 'OVTK_StimulationId_ExperimentStart',\n",
        "        '32775': 'OVTK_StimulationId_BaselineStart',\n",
        "        '32776': 'OVTK_StimulationId_BaselineStop',\n",
        "        '33282': 'OVTK_StimulationId_Beep',\n",
        "        '768': 'OVTK_GDF_Start_Of_Trial',\n",
        "        '786': 'OVTK_GDF_Cross_On_Screen',\n",
        "        '32780': 'OVTK_StimulationId_VisualStimulationStop',\n",
        "        '32777': 'OVTK_StimulationId_RestStart',\n",
        "        '1010': 'OVTK_GDF_End_Of_Session',\n",
        "        '32770': 'OVTK_StimulationId_ExperimentStop',\n",
        "        '800': 'OVTK_GDF_End_Of_Trial',\n",
        "        '32778': 'OVTK_StimulationId_RestStop'\n",
        "    }\n",
        "    # '32780:32778:800',\n",
        "    # '768:786',\n",
        "    # '33282:768'\n",
        "id_remap = {\n",
        "        '33025':' 10',\n",
        "        '33026':' 20',\n",
        "        '32769':' 30',\n",
        "        '32775':' 40',\n",
        "        '32776':' 50',\n",
        "        '33282':' 60',\n",
        "        '768':' 70',\n",
        "        '786':' 80',\n",
        "        '32780':'90',\n",
        "        '32777':'110',\n",
        "        '1010':'130',\n",
        "        '32770':'140',\n",
        "        0:' 100',\n",
        "        1:'120',\n",
        "    }\n",
        "col_names = ['Time128Hz',\n",
        "              'Epoch',\n",
        "              'AF3',\n",
        "              'F7',\n",
        "              'F3',\n",
        "              'FC5',\n",
        "              'T7',\n",
        "              'P7',\n",
        "              'O1',\n",
        "              'O2',\n",
        "              'P8',\n",
        "              'T8',\n",
        "              'FC6',\n",
        "              'F4',\n",
        "              'F8',\n",
        "              'AF4',\n",
        "              'EventId',\n",
        "              'EventDate',\n",
        "              'EventDuration']"
      ],
      "execution_count": null,
      "outputs": []
    },
    {
      "cell_type": "code",
      "metadata": {
        "id": "yyRpv7mPTIIZ"
      },
      "source": [
        " \n",
        " \n",
        "#raw_data = '/content/2_KA_VisualnaStimulaciq_14ch.csv'\n",
        " \n",
        "def interpolate_eventid_col(data):\n",
        "  data.fillna(value=0, inplace=True)#, inplace=True)\n",
        "    # FILL-EXPLODE EVENTID\n",
        "  # this should be a func\n",
        "  data.columns = data.columns.str.replace(' ', '')\n",
        "  EventID_NEW = ''\n",
        "  EventID_TO_SET = ''\n",
        "  for index, row in data.iterrows(): #итерираме ред по ред с вградения метод iterrows() от pandas\n",
        "      EventID_NEW = str(row['EventId']) # достъпваме данни чрез име на колона\n",
        "      if EventID_NEW == '0':\n",
        "          data.at[index, 'EventId'] = str(EventID_TO_SET)\n",
        "      else:\n",
        "          EventID_NEW = str(row['EventId'])\n",
        "          EventID_TO_SET = str(row['EventId'])\n",
        "  return data\n",
        " \n",
        " \n",
        "def fix_events(data):\n",
        "    data = data[\n",
        "        (data.EventId == '33025') | \\\n",
        "        (data.EventId == '33026') | \\\n",
        "        (data.EventId == '32769') | \\\n",
        "        (data.EventId == '32775') | \\\n",
        "        (data.EventId == '32776') | \\\n",
        "        (data.EventId == '33282') | \\\n",
        "        (data.EventId == '768') | \\\n",
        "        (data.EventId == '786') | \\\n",
        "        (data.EventId == '32780') | \\\n",
        "        (data.EventId == 0) | \\\n",
        "        (data.EventId == '32777') | \\\n",
        "        # (data.EventId == 1) | \\\n",
        "        (data.EventId == '1010') | \\\n",
        "        (data.EventId == '32770')\n",
        "    ]\n",
        "    # data = data.astype({'EventId': 'int32'}).dtypes\n",
        "    return data\n",
        "    # pass\n",
        " \n",
        " \n",
        "def eventid_to_int(data):\n",
        "    for index, row in data.iterrows():\n",
        "        EventID_value = str(row['EventId'])\n",
        "        data.at[index, 'EventId'] = int(EventID_value)\n",
        "    data = data.astype({'EventId': int})\n",
        "    return data\n",
        " \n",
        " \n",
        "def label_data(data):\n",
        "  for index, row in data.iterrows(): #итерираме ред по ред с вградения метод iterrows() от pandas\n",
        "      EventID_value = str(row['EventId']) # достъпваме данни чрез име на колона\n",
        "      if EventID_value == '33025':\n",
        "          # data.at[index, 'EventId'] = str(EventID_TO_SET)\n",
        "          data.at[index, 'EventId'] = 0\n",
        "      elif EventID_value == '33026':\n",
        "          data.at[index, 'EventId'] = 1\n",
        "      else:\n",
        "        #   data.at[index, 'EventId'] = -1\n",
        "        data.at[index, 'EventId'] = int(EventID_value)\n",
        "  return data\n",
        " \n",
        " \n",
        "def decode_stimula_codes(data, stimulation_codes):\n",
        "    data['StimulationCode'] = data['EventId'].map(stimulation_codes)\n",
        "    return data\n",
        " \n",
        " \n",
        "def test_func(data):\n",
        "    # frame = {} #initialize empty dict to store filtered cols\n",
        "    # # m = len(data[channel_columns])\n",
        "    # for index, row in data.iterrows():\n",
        "    #     EventID_value = str(row['EventId'])\n",
        "    #     data.at[index, 'EventId'] = int(EventID_value)\n",
        "    #     print(column)\n",
        "    pass\n",
        " \n",
        " \n",
        "def butter_bandpass(lowcut, highcut, fs, order=6):\n",
        "    nyq = 0.5 * fs\n",
        "    low = lowcut / nyq\n",
        "    high = highcut / nyq\n",
        "    b, a = signal.butter(order, [low, high], btype='band')\n",
        "    return b, a\n",
        " \n",
        " \n",
        "def butter_bandpass_filter(data, lowcut, highcut, fs, order=6):\n",
        "    b, a = butter_bandpass(lowcut, highcut, fs, order=order)\n",
        "    y = signal.lfilter(b, a, data)\n",
        "    return y\n",
        " \n",
        " \n",
        "def do_filter(data,lowcut,highcut,fs,order, channel_columns):\n",
        "    frame = {} \n",
        "    # initialize empty dict to store filtered cols\n",
        "    # channel_columns - само колоните, които съдържат данните от предварително избраните от нас канали , посочени в конфиг файла\n",
        "    for column in data[channel_columns]:               \n",
        "        # data[column] - избраните колони \n",
        "        # lowcut - долна граница\n",
        "        # highcut - гора граница\n",
        "        # fs - ???\n",
        "        # order - ред за прилагане на филтъра\n",
        "        # y - данни за поредната колона от списъка channel_columns\n",
        "        y = butter_bandpass_filter(data[column], lowcut, highcut, fs, order=order)\n",
        "        # filtered_column - образуваме серия, т.е. всяка колона след филтриране я превръщаме в серия - подреден списък, специфичен за пандас\n",
        "        filtered_column = pd.Series(data=y) #, name=str(column)\n",
        "        # frame.update - упдейтваме , като заместваме данните във всяка подредена филтрирана колона \n",
        "        frame.update( { str(column) : filtered_column } )\n",
        "    # извлечените филтрирани колони , използвайки предварително дефинирания фрейм \n",
        "    butter_data = pd.DataFrame(frame)\n",
        "    butter_data.insert(0,'Time128Hz',data['Time128Hz'])\n",
        "    butter_data.append(data['EventId'])\n",
        "    butter_data.append(data['EventDate'])\n",
        "    butter_data.append(data['EventDuration'])\n",
        "    return butter_data\n",
        " \n",
        " \n",
        "def outliers_remover(data,channel_columns):\n",
        "    frame = {} #initialize empty dict to store filtered cols\n",
        " \n",
        "    #     channel_columns - само колоните, които съдържат данните от предварително избраните от нас канали , посочени в конфиг файла\n",
        "    for column in data[channel_columns]:               \n",
        "        # data[column] - избраните колони \n",
        " \n",
        "        # y - данни за поредната колона от списъка channel_columns\n",
        "        y = data[column]\n",
        "        data_mean, data_std = np.mean(y), np.std(y)\n",
        "        cut_off = data_std * 4\n",
        "        lower, upper = data_mean - cut_off, data_mean + cut_off\n",
        "        # print(lower, upper)\n",
        "        outliers = [x for x in y if x < lower or x > upper]\n",
        "        # remove outliers\n",
        "        outliers_removed = [x for x in y if x >= lower and x <= upper]\n",
        "        filtered_col = pd.Series(data=outliers_removed)\n",
        "        frame.update( { str(column) : filtered_col } )\n",
        "        aaa = pd.DataFrame(frame)\n",
        "        aaa.insert(0,'Time128Hz',data['Time128Hz'])\n",
        "    return aaa\n",
        " \n",
        " \n",
        "def dsp(data,channel_columns):\n",
        "    \"\"\"Функция - DSP x*x\n",
        " \n",
        "    Извлича данните от CSV файла\n",
        " \n",
        "    Todo:\n",
        "    * For module TODOs\n",
        "    * You have to also use ``sphinx.ext.todo`` extension\n",
        " \n",
        "    .. _Google Python Style Guide:\n",
        "    http://google.github.io/styleguide/pyguide.html\n",
        "    \"\"\"\n",
        "    frame = {} #initialize empty dict to store filtered cols\n",
        " \n",
        "    #     channel_columns - само колоните, които съдържат данните от предварително избраните от нас канали , посочени в конфиг файла\n",
        "    for column in data[channel_columns]:               \n",
        "        # data[column] - избраните колони \n",
        " \n",
        "        # y - данни за поредната колона от списъка channel_columns\n",
        "        y = data[column]\n",
        "        y = y*y\n",
        "        #     filtered_column - образуваме серия, т.е. всяка колона след филтриране я превръщаме в серия - подреден списък, специфичен за pandas\n",
        "        filtered_column = pd.Series(data=y) #, name=str(column)\n",
        "        # frame.update - упдейтваме , като заместваме данните във всяка подредена филтрирана колона \n",
        "        frame.update( { str(column) : filtered_column } )\n",
        "    #print(frame)\n",
        " \n",
        "    #     извлечените филтрирани колони , използвайки предварително дефинирания фрейм \n",
        "    dsp_data = pd.DataFrame(frame)\n",
        "    dsp_data.insert(0,'Time128Hz',data['Time128Hz'])\n",
        "    return dsp_data\n",
        "    #     Добавяме съответно \n",
        "    #     Time128Hz\n",
        "    #     Epoch\n",
        "    #     EventId\n",
        "    # Return_Data.insert(0,'Time128Hz',data['Time128Hz'])\n",
        " \n",
        " \n",
        "def fft_x(data,channel_columns):\n",
        " \n",
        "    frame = {} #initialize empty dict to store filtered cols\n",
        " \n",
        "    #     channel_columns - само колоните, които съдържат данните от предварително избраните от нас канали , посочени в конфиг файла\n",
        "    for column in data[channel_columns]:               \n",
        "        # data[column] - избраните колони \n",
        " \n",
        "        # y - данни за поредната колона от списъка channel_columns\n",
        "        y = data[column]\n",
        "       \n",
        "        y = np.fft.fft(y)\n",
        "        #     filtered_column - образуваме серия, т.е. всяка колона след филтриране я превръщаме в серия - подреден списък, специфичен за pandas\n",
        "        filtered_column = pd.Series(data=y) #, name=str(column)\n",
        "        # frame.update - упдейтваме , като заместваме данните във всяка подредена филтрирана колона \n",
        "        frame.update( { str(column) : filtered_column } )\n",
        "    #print(frame)\n",
        " \n",
        "    #     извлечените филтрирани колони , използвайки предварително дефинирания фрейм \n",
        "    fft_data = pd.DataFrame(frame)\n",
        "    #     Добавяме съответно \n",
        "    #     Time128Hz\n",
        "    #     Epoch\n",
        "    #     EventId\n",
        "    fft_data.insert(0,'Time128Hz',data['Time128Hz'])\n",
        "    return fft_data"
      ],
      "execution_count": null,
      "outputs": []
    },
    {
      "cell_type": "code",
      "metadata": {
        "id": "6bQalkEGwWxU",
        "cellView": "form"
      },
      "source": [
        "#@title\n",
        "# import numpy as np\n",
        "\n",
        "# fs = 512                                # Sampling rate (512 Hz)\n",
        "# data = np.random.uniform(0, 100, 1024)  # 2 sec of data b/w 0.0-100.0\n",
        "# print(data)\n",
        "# print(len(data))\n",
        "# print()\n",
        "# # Get real amplitudes of FFT (only in postive frequencies)\n",
        "# fft_vals = np.absolute(np.fft.rfft(data))\n",
        "\n",
        "# # Get frequencies for amplitudes in Hz\n",
        "# fft_freq = np.fft.rfftfreq(len(data), 1.0/fs)\n",
        "# print(fft_freq)\n",
        "# print()\n",
        "# # Define EEG bands\n",
        "# eeg_bands = {'Delta': (0, 4),\n",
        "#              'Theta': (4, 8),\n",
        "#              'Alpha': (8, 12),\n",
        "#              'Beta': (12, 30),\n",
        "#              'Gamma': (30, 45)}\n",
        "\n",
        "# # Take the mean of the fft amplitude for each EEG band\n",
        "# eeg_band_fft = dict()\n",
        "# for band in eeg_bands:  \n",
        "#     freq_ix = np.where((fft_freq >= eeg_bands[band][0]) & \n",
        "#                        (fft_freq <= eeg_bands[band][1]))[0]\n",
        "#     eeg_band_fft[band] = np.mean(fft_vals[freq_ix])\n",
        "\n",
        "# # Plot the data (using pandas here cause it's easy)\n",
        "# import pandas as pd\n",
        "# df = pd.DataFrame(columns=['band', 'val'])\n",
        "# df['band'] = eeg_bands.keys()\n",
        "# df['val'] = [eeg_band_fft[band] for band in eeg_bands]\n",
        "# ax = df.plot.bar(x='band', y='val', legend=False)\n",
        "# ax.set_xlabel(\"EEG band\")\n",
        "# ax.set_ylabel(\"Mean band Amplitude\")"
      ],
      "execution_count": null,
      "outputs": []
    },
    {
      "cell_type": "markdown",
      "metadata": {
        "id": "piqQYDjsACXE"
      },
      "source": [
        "# read data"
      ]
    },
    {
      "cell_type": "code",
      "metadata": {
        "id": "wr94CMuNUgRD"
      },
      "source": [
        "# we use pandas to read the dataset and specify its feature names\n",
        "df = pd.read_csv(target_url, names=col_names, index_col=False, header=0, sep=',')\n",
        "# df.fillna(value=0, inplace=True)"
      ],
      "execution_count": null,
      "outputs": []
    },
    {
      "cell_type": "code",
      "metadata": {
        "id": "kSkqSoy7I01l",
        "outputId": "f387e4ee-fb15-4935-c323-d471e6342192",
        "colab": {
          "base_uri": "https://localhost:8080/",
          "height": 224
        }
      },
      "source": [
        "df = interpolate_eventid_col(df)\n",
        "df.head()\n",
        "# df.fillna(value=0, inplace=True)\n",
        "# values = df.to_numpy()\n",
        "# plt.figure()\n",
        "# for i in range(values.shape[1]):\n",
        "#     plt.subplot(values.shape[1], 1, i+1)\n",
        "#     plt.plot(values[:, i])\n",
        "# plt.show()\n",
        "# df['ez_id'] = df['EventId'].map(id_remap)\n",
        "# # df.EventId.unique()"
      ],
      "execution_count": null,
      "outputs": [
        {
          "output_type": "execute_result",
          "data": {
            "text/html": [
              "<div>\n",
              "<style scoped>\n",
              "    .dataframe tbody tr th:only-of-type {\n",
              "        vertical-align: middle;\n",
              "    }\n",
              "\n",
              "    .dataframe tbody tr th {\n",
              "        vertical-align: top;\n",
              "    }\n",
              "\n",
              "    .dataframe thead th {\n",
              "        text-align: right;\n",
              "    }\n",
              "</style>\n",
              "<table border=\"1\" class=\"dataframe\">\n",
              "  <thead>\n",
              "    <tr style=\"text-align: right;\">\n",
              "      <th></th>\n",
              "      <th>Time128Hz</th>\n",
              "      <th>Epoch</th>\n",
              "      <th>AF3</th>\n",
              "      <th>F7</th>\n",
              "      <th>F3</th>\n",
              "      <th>FC5</th>\n",
              "      <th>T7</th>\n",
              "      <th>P7</th>\n",
              "      <th>O1</th>\n",
              "      <th>O2</th>\n",
              "      <th>P8</th>\n",
              "      <th>T8</th>\n",
              "      <th>FC6</th>\n",
              "      <th>F4</th>\n",
              "      <th>F8</th>\n",
              "      <th>AF4</th>\n",
              "      <th>EventId</th>\n",
              "      <th>EventDate</th>\n",
              "      <th>EventDuration</th>\n",
              "    </tr>\n",
              "  </thead>\n",
              "  <tbody>\n",
              "    <tr>\n",
              "      <th>0</th>\n",
              "      <td>0.000000</td>\n",
              "      <td>0</td>\n",
              "      <td>4114.102539</td>\n",
              "      <td>4110.000000</td>\n",
              "      <td>4118.974121</td>\n",
              "      <td>4104.487305</td>\n",
              "      <td>4127.820312</td>\n",
              "      <td>4112.948730</td>\n",
              "      <td>4106.794922</td>\n",
              "      <td>4123.077148</td>\n",
              "      <td>4150.641113</td>\n",
              "      <td>4158.461426</td>\n",
              "      <td>4123.717773</td>\n",
              "      <td>4119.102539</td>\n",
              "      <td>4139.230957</td>\n",
              "      <td>4117.436035</td>\n",
              "      <td></td>\n",
              "      <td>0</td>\n",
              "      <td>0</td>\n",
              "    </tr>\n",
              "    <tr>\n",
              "      <th>1</th>\n",
              "      <td>0.007812</td>\n",
              "      <td>0</td>\n",
              "      <td>4113.974121</td>\n",
              "      <td>4107.692383</td>\n",
              "      <td>4121.538574</td>\n",
              "      <td>4106.538574</td>\n",
              "      <td>4114.358887</td>\n",
              "      <td>4113.974121</td>\n",
              "      <td>4108.333496</td>\n",
              "      <td>4128.333496</td>\n",
              "      <td>4155.512695</td>\n",
              "      <td>4158.717773</td>\n",
              "      <td>4128.717773</td>\n",
              "      <td>4116.410156</td>\n",
              "      <td>4137.436035</td>\n",
              "      <td>4115.769043</td>\n",
              "      <td>32769</td>\n",
              "      <td>0.0089665661</td>\n",
              "      <td>0.0000000000</td>\n",
              "    </tr>\n",
              "    <tr>\n",
              "      <th>2</th>\n",
              "      <td>0.015625</td>\n",
              "      <td>0</td>\n",
              "      <td>4107.820312</td>\n",
              "      <td>4105.897461</td>\n",
              "      <td>4114.615234</td>\n",
              "      <td>4105.512695</td>\n",
              "      <td>4111.410156</td>\n",
              "      <td>4107.179688</td>\n",
              "      <td>4103.077148</td>\n",
              "      <td>4121.410156</td>\n",
              "      <td>4136.922852</td>\n",
              "      <td>4148.846191</td>\n",
              "      <td>4120.128418</td>\n",
              "      <td>4101.538574</td>\n",
              "      <td>4125.384766</td>\n",
              "      <td>4108.717773</td>\n",
              "      <td>32769</td>\n",
              "      <td>0</td>\n",
              "      <td>0</td>\n",
              "    </tr>\n",
              "    <tr>\n",
              "      <th>3</th>\n",
              "      <td>0.023438</td>\n",
              "      <td>0</td>\n",
              "      <td>4106.666504</td>\n",
              "      <td>4105.897461</td>\n",
              "      <td>4110.000000</td>\n",
              "      <td>4104.871582</td>\n",
              "      <td>4127.436035</td>\n",
              "      <td>4107.179688</td>\n",
              "      <td>4106.410156</td>\n",
              "      <td>4115.384766</td>\n",
              "      <td>4120.512695</td>\n",
              "      <td>4136.538574</td>\n",
              "      <td>4105.512695</td>\n",
              "      <td>4101.410156</td>\n",
              "      <td>4120.512695</td>\n",
              "      <td>4107.563965</td>\n",
              "      <td>32769</td>\n",
              "      <td>0</td>\n",
              "      <td>0</td>\n",
              "    </tr>\n",
              "    <tr>\n",
              "      <th>4</th>\n",
              "      <td>0.031250</td>\n",
              "      <td>0</td>\n",
              "      <td>4114.102539</td>\n",
              "      <td>4109.102539</td>\n",
              "      <td>4119.358887</td>\n",
              "      <td>4109.487305</td>\n",
              "      <td>4129.358887</td>\n",
              "      <td>4118.974121</td>\n",
              "      <td>4118.974121</td>\n",
              "      <td>4117.307617</td>\n",
              "      <td>4120.641113</td>\n",
              "      <td>4144.615234</td>\n",
              "      <td>4107.307617</td>\n",
              "      <td>4113.846191</td>\n",
              "      <td>4123.077148</td>\n",
              "      <td>4112.563965</td>\n",
              "      <td>32769</td>\n",
              "      <td>0</td>\n",
              "      <td>0</td>\n",
              "    </tr>\n",
              "  </tbody>\n",
              "</table>\n",
              "</div>"
            ],
            "text/plain": [
              "   Time128Hz  Epoch          AF3  ...  EventId     EventDate  EventDuration\n",
              "0   0.000000      0  4114.102539  ...                      0              0\n",
              "1   0.007812      0  4113.974121  ...    32769  0.0089665661   0.0000000000\n",
              "2   0.015625      0  4107.820312  ...    32769             0              0\n",
              "3   0.023438      0  4106.666504  ...    32769             0              0\n",
              "4   0.031250      0  4114.102539  ...    32769             0              0\n",
              "\n",
              "[5 rows x 19 columns]"
            ]
          },
          "metadata": {
            "tags": []
          },
          "execution_count": 8
        }
      ]
    },
    {
      "cell_type": "code",
      "metadata": {
        "id": "DIq6w-DEMLyF",
        "outputId": "da07354f-8ae3-40fb-8e2e-b2d0990c5a1a",
        "colab": {
          "base_uri": "https://localhost:8080/",
          "height": 34
        }
      },
      "source": [
        "df = fix_events(df)\n",
        "df.shape"
      ],
      "execution_count": null,
      "outputs": [
        {
          "output_type": "execute_result",
          "data": {
            "text/plain": [
              "(67433, 19)"
            ]
          },
          "metadata": {
            "tags": []
          },
          "execution_count": 9
        }
      ]
    },
    {
      "cell_type": "code",
      "metadata": {
        "id": "24PU2qN0vb7M"
      },
      "source": [
        ""
      ],
      "execution_count": null,
      "outputs": []
    },
    {
      "cell_type": "code",
      "metadata": {
        "id": "GNt9cJ445QhI"
      },
      "source": [
        "df =  eventid_to_int(df)\n",
        "# df.head()\n",
        "# # plt.plot(df.Time128Hz[:3560].to_numpy(), df.EventId[:3560].to_numpy())\n",
        "# omg = df.ez_id\n",
        "# tomg = df.Time128Hz\n",
        "# # omg = [if x%2 == 0:x/100 else x/1000*1.2 for x in omg]\n",
        "# plt.plot(tomg,omg)\n",
        "# # print(int(0.768**2))"
      ],
      "execution_count": null,
      "outputs": []
    },
    {
      "cell_type": "code",
      "metadata": {
        "id": "hnqcebOjw3gW"
      },
      "source": [
        "df = do_filter(df,8,12,128,6,channel_columns)\n",
        "df.head()"
      ],
      "execution_count": null,
      "outputs": []
    },
    {
      "cell_type": "code",
      "metadata": {
        "id": "8ZijmBM9GTy6"
      },
      "source": [
        "df = dsp(df, channel_columns)\n",
        "# dsp_data.describe()"
      ],
      "execution_count": null,
      "outputs": []
    },
    {
      "cell_type": "code",
      "metadata": {
        "id": "vaeMSdIi1iHD"
      },
      "source": [
        "aaa = outliers_remover(dsp_data, channel_columns)\n",
        "# aaa.describe()"
      ],
      "execution_count": null,
      "outputs": []
    },
    {
      "cell_type": "code",
      "metadata": {
        "id": "gEBfNoaFHeVq"
      },
      "source": [
        "fft_data = fft_x(dsp_data, channel_columns)\n",
        "# fft_data.head()\n",
        "# sig_fft = fft_data\n",
        "# power = np.abs(sig_fft)**2\n",
        "# print(power)"
      ],
      "execution_count": null,
      "outputs": []
    },
    {
      "cell_type": "code",
      "metadata": {
        "id": "1SV9A5iVUZ7Q",
        "cellView": "form"
      },
      "source": [
        "#@title\n",
        "# # dt = 0.001\n",
        "# dt = 0.0078125\n",
        "# t = df.Time128Hz.to_numpy()\n",
        "# f = df.AF3.to_numpy()\n",
        "# f_clean = f\n",
        "# n = len(t)\n",
        "# fhat = np.fft.fft(f,n)\n",
        "# PSD = fhat * np.conj(fhat) / n\n",
        "# freq = (1/(dt*n)) * np.arange(n)\n",
        "# L = np.arange(1,np.floor(n/2),dtype='int')\n",
        "\n",
        "# fix,axs = plt.subplots(2,1)\n",
        "\n",
        "# plt.sca(axs[0])\n",
        "# plt.plot(t,f,color='c',LineWidth=1.5,label='Noisy')\n",
        "# plt.plot(t,f_clean,color='k',LineWidth=2,label='clean')\n",
        "# plt.xlim(t[0], t[-1])\n",
        "# plt.legend()\n",
        "\n",
        "\n",
        "# plt.sca(axs[1])\n",
        "# plt.plot(freq[L],PSD[L],color='c',LineWidth=2,label='Noisy')\n",
        "# plt.xlim(freq[L[0]],freq[L[-1]])\n",
        "# plt.legend()\n",
        "# plt.show()\n",
        "# print(freq)"
      ],
      "execution_count": null,
      "outputs": []
    },
    {
      "cell_type": "code",
      "metadata": {
        "id": "7JSIjy64bOD-"
      },
      "source": [
        "# df.to_csv('formatlab.csv',sep=',', index=None)"
      ],
      "execution_count": null,
      "outputs": []
    },
    {
      "cell_type": "markdown",
      "metadata": {
        "id": "f-wzQL1_7p_t"
      },
      "source": [
        "# BANDPASS"
      ]
    },
    {
      "cell_type": "code",
      "metadata": {
        "id": "0SFAhkUd7sIX",
        "cellView": "form"
      },
      "source": [
        "#@title\n",
        "# from scipy.signal import butter, lfilter\n",
        "\n",
        "# def butter_bandpass(lowcut, highcut, fs, order=5):\n",
        "#     nyq = 0.5 * fs\n",
        "#     low = lowcut / nyq\n",
        "#     high = highcut / nyq\n",
        "#     b, a = signal.butter(order, [low, high], btype='band')\n",
        "#     return b, a\n",
        "\n",
        "\n",
        "# def butter_bandpass_filter(data, lowcut, highcut, fs, order=6):\n",
        "#     b, a = butter_bandpass(lowcut, highcut, fs, order=order)\n",
        "#     y = signal.lfilter(b, a, data)\n",
        "#     return y\n",
        "\n",
        "\n",
        "# # # def run():\n",
        "#     # import numpy as np\n",
        "#     # import matplotlib.pyplot as plt\n",
        "#     # from scipy.signal import freqz\n",
        "#     # import math\n",
        "#     # # Sample rate and desired cutoff frequencies (in Hz).\n",
        "#     # fs = 128.0\n",
        "#     # lowcut = 8.0\n",
        "#     # highcut = 30.0\n",
        "\n",
        "#     # # -----------------------------------------------------------------------------\n",
        "#     #     # # Plot the frequency response for a few different orders.\n",
        "#     #     # plt.figure(1)\n",
        "#     #     # plt.clf()\n",
        "#     #     # for order in [3, 6, 9]:\n",
        "#     #     #     b, a = butter_bandpass(lowcut, highcut, fs, order=order)\n",
        "#     #     #     w, h = freqz(b, a, worN=2000)\n",
        "#     #     #     plt.plot((fs * 0.5 / np.pi) * w, abs(h), label=\"order = %d\" % order)\n",
        "\n",
        "#     #     # plt.plot([0, 0.5 * fs], [np.sqrt(0.5), np.sqrt(0.5)],\n",
        "#     #     #     '--', label='sqrt(0.5)')\n",
        "#     #     # plt.xlabel('Frequency (Hz)')\n",
        "#     #     # plt.ylabel('Gain')\n",
        "#     #     # plt.grid(True)\n",
        "#     #     # plt.legend(loc='best')\n",
        "\n",
        "#     #     # # Filter a noisy signal.\n",
        "#     #     # T = 1\n",
        "#     #     # nsamples = int(T * fs)\n",
        "#     #     # xd = 2 * math.pi / T\n",
        "#     #     # print(xd)\n",
        "#     #     # # t = np.linspace(0, T, nsamples, endpoint=False)\n",
        "#     #     # t = df.Time128Hz[:nsamples].to_numpy()\n",
        "#     #     # a = 0.02\n",
        "#     #     # f0 = 16.0\n",
        "#     #     #     # x = 0.1 * np.sin(2 * np.pi * 1.2 * np.sqrt(t))\n",
        "#     #     #     # x += 0.01 * np.cos(2 * np.pi * 312 * t + 0.1)\n",
        "#     #     #     # x += a * np.cos(2 * np.pi * f0 * t + .11)\n",
        "#     #     #     # x += 0.03 * np.cos(2 * np.pi * 2000 * t)\n",
        "#     #     # x = signals[:nsamples, 2]\n",
        "#     #     # plt.figure(2)\n",
        "#     #     # plt.clf()\n",
        "#     #     # plt.plot(t, x, label='Noisy signal')\n",
        "\n",
        "#     #     # y = butter_bandpass_filter(x, lowcut, highcut, fs, order=6)\n",
        "#     #     # plt.plot(t, y, label='Filtered signal (%g Hz)' % f0)\n",
        "#     #     # plt.xlabel('time (seconds)')\n",
        "#     #     # plt.hlines([-a, a], 0, T, linestyles='--')\n",
        "#     #     # plt.grid(True)\n",
        "#     #     # plt.axis('tight')\n",
        "#     #     # plt.legend(loc='upper left')\n",
        "\n",
        "#     #     # plt.show()\n",
        "\n",
        "#     # # -----------------------------------------------------------------------------\n",
        "\n",
        "# def do_filter(data,lowcut,highcut,fs,order):\n",
        "#     frame = {} \n",
        "#     # initialize empty dict to store filtered cols\n",
        "\n",
        "\n",
        "#     # channel_columns - само колоните, които съдържат данните от предварително избраните от нас канали , посочени в конфиг файла\n",
        "#     for column in df[channel_columns]:               \n",
        "#         # data[column] - избраните колони \n",
        "#         # lowcut - долна граница\n",
        "#         # highcut - гора граница\n",
        "#         # fs - ???\n",
        "#         # order - ред за прилагане на филтъра\n",
        "\n",
        "#         # y - данни за поредната колона от списъка channel_columns\n",
        "#         y = butter_bandpass_filter(df[column], lowcut, highcut, fs, order=6)\n",
        "#         # filtered_column - образуваме серия, т.е. всяка колона след филтриране я превръщаме в серия - подреден списък, специфичен за пандас\n",
        "#         filtered_column = pd.Series(data=y) #, name=str(column)\n",
        "#         # frame.update - упдейтваме , като заместваме данните във всяка подредена филтрирана колона \n",
        "#         frame.update( { str(column) : filtered_column } )\n",
        "\n",
        "#     #     извлечените филтрирани колони , използвайки предварително дефинирания фрейм \n",
        "#     butter_data = pd.DataFrame(frame)\n",
        "#     butter_data.insert(0,'Time128Hz',data['Time128Hz'])\n",
        "#     return butter_data"
      ],
      "execution_count": null,
      "outputs": []
    },
    {
      "cell_type": "code",
      "metadata": {
        "id": "gdlWk8g2l1lC",
        "cellView": "form"
      },
      "source": [
        "#@title\n",
        "# df['EventId'].unique()\n",
        "# dataframe = df[\n",
        "#     (df.EventId == '33025') | \\\n",
        "#     (df.EventId == '33026') | \\\n",
        "#     (df.EventId == '32769') | \\\n",
        "#     (df.EventId == '32775') | \\\n",
        "#     (df.EventId == '32776') | \\\n",
        "#     (df.EventId == '33282') | \\\n",
        "#     (df.EventId == '768') | \\\n",
        "#     (df.EventId == '786') | \\\n",
        "#     (df.EventId == '32780') | \\\n",
        "#     (df.EventId == 0) | \\\n",
        "#     (df.EventId == '32777') | \\\n",
        "#     (df.EventId == 1) | \\\n",
        "#     (df.EventId == '1010') | \\\n",
        "#     (df.EventId == '32770')\n",
        "#     ]\n",
        "# stimulation_codes = {\n",
        "#     '33025': 'OVTK_StimulationId_Label_01',\n",
        "#     '33026': 'OVTK_StimulationId_Label_02',\n",
        "#     '32769': 'OVTK_StimulationId_ExperimentStart',\n",
        "#     '32775': 'OVTK_StimulationId_BaselineStart',\n",
        "#     '32776': 'OVTK_StimulationId_BaselineStop',\n",
        "#     '33282': 'OVTK_StimulationId_Beep',\n",
        "#     '768': 'OVTK_GDF_Start_Of_Trial',\n",
        "#     '786': 'OVTK_GDF_Cross_On_Screen',\n",
        "#     '32780': 'OVTK_StimulationId_VisualStimulationStop',\n",
        "#     0: 'OVTK_StimulationId_Number_00',\n",
        "#     '32777': 'OVTK_StimulationId_RestStart',\n",
        "#     1: 'OVTK_StimulationId_Number_01',\n",
        "#     '1010': 'OVTK_GDF_End_Of_Session',\n",
        "#     '32770': 'OVTK_StimulationId_ExperimentStop'\n",
        "# }\n",
        "# dataframe['StimulaCode'] = dataframe['EventId'].map(stimulation_codes)\n",
        "# dataframe.head()"
      ],
      "execution_count": null,
      "outputs": []
    },
    {
      "cell_type": "code",
      "metadata": {
        "id": "knsIlPRHmg9a",
        "cellView": "form"
      },
      "source": [
        "#@title\n",
        "#\n",
        "    # times = df.Time128Hz.to_numpy()\n",
        "    # t = times\n",
        "    # n = len(t)\n",
        "    # f = signals[:, 2]\n",
        "    # fhat = np.fft.fft(f,n)\n",
        "    # PSD = fhat * np.conj(fhat) / n\n",
        "    # freq = (1/(dt*n)) * np.arange(n)\n",
        "    # L = np.arange(1,np.floor(n/2),dtype='int')\n",
        "\n",
        "    # fix,axs = plt.subplots(2,1)\n",
        "\n",
        "    # plt.sca(axs[0])\n",
        "    # plt.plot(t,f,color='c',LineWidth=1.5,label='Noisy')\n",
        "    # plt.plot(t,f_clean,color='k',LineWidth=0.5,label='clean')\n",
        "    # plt.xlim(t[0], t[-1])\n",
        "    # plt.legend()\n",
        "\n",
        "\n",
        "    # plt.sca(axs[1])\n",
        "    # plt.plot(freq[L],PSD[L],color='c',LineWidth=2,label='Noisy')\n",
        "    # plt.xlim(freq[L[0]],freq[L[-1]])\n",
        "    # plt.legend()\n",
        "    # plt.show()"
      ],
      "execution_count": null,
      "outputs": []
    },
    {
      "cell_type": "code",
      "metadata": {
        "id": "hG7lVe3Z72fG"
      },
      "source": [
        "# this line displays the first five rows of the dataset\n",
        "times = df.Time128Hz.to_numpy()\n",
        "signals_df = df[\n",
        "                ['AF3', 'F7', 'F3', 'FC5', 'T7', 'P7', 'O1', 'O2', 'P8', 'T8', 'FC6', 'F4', 'F8', 'AF4'] # , 'EventId'\n",
        "                ]\n",
        "\n",
        "ch_names = ['AF3', 'F7', 'F3', 'FC5', 'T7', 'P7', 'O1', 'O2', 'P8', 'T8', 'FC6', 'F4', 'F8', 'AF4']\n",
        "dsp_signals = dsp_data[ch_names].to_numpy()"
      ],
      "execution_count": null,
      "outputs": []
    },
    {
      "cell_type": "code",
      "metadata": {
        "id": "EEnrK2Ks4eh4",
        "cellView": "both"
      },
      "source": [
        "# from plotly.subplots import make_subplots\n",
        "    # import re\n",
        "\n",
        "    # signals = signals.T\n",
        "    # signals = signals[:128]\n",
        "\n",
        "\n",
        "    # fig = make_subplots(\n",
        "    #     rows=signals.shape[1], cols=1,\n",
        "    #     shared_xaxes=True,\n",
        "    #     vertical_spacing=0.001\n",
        "    #     )\n",
        "\n",
        "    # for i in range(signals.shape[1]):\n",
        "    #     fig.add_trace(\n",
        "    #         go.Scatter(\n",
        "    #             x=times,\n",
        "    #             y=signals[:, i],\n",
        "    #             mode=\"lines\",\n",
        "    #             name=\"Channel: \" + ch_names[i-1]\n",
        "    #         ),\n",
        "    #         row=i+1, col=1\n",
        "    #     )\n",
        "\n",
        "    # # Set theme, margin, and annotation in layout\n",
        "    # fig.update_layout(\n",
        "    #     # height=1400,\n",
        "    #     template=\"plotly_dark\",\n",
        "    #     margin=dict(r=10, t=10, b=20, l=60),\n",
        "    #     annotations=[\n",
        "    #         dict(\n",
        "    #             text=\"Motor-Imagery Left/Right hand movement\",\n",
        "    #             showarrow=False,\n",
        "    #             xref=\"paper\",\n",
        "    #             yref=\"paper\",\n",
        "    #             x=0,\n",
        "    #             y=0)\n",
        "    #     ]\n",
        "    # )\n",
        "\n",
        "    # # fig.update_layout(\n",
        "    # #     height=1400,\n",
        "    # #     showlegend=False,\n",
        "    # #     title_text=\"Channels\",\n",
        "    # # )"
      ],
      "execution_count": null,
      "outputs": []
    },
    {
      "cell_type": "code",
      "metadata": {
        "id": "Aw0P9IcP4qcH"
      },
      "source": [
        "plt.figure()\n",
        "for i in range(dsp_signals.shape[1]):\n",
        "\tplt.subplot(dsp_signals.shape[1], 1, i+1)\n",
        "\tplt.plot(dsp_signals[:, i])\n",
        "plt.show()"
      ],
      "execution_count": null,
      "outputs": []
    },
    {
      "cell_type": "markdown",
      "metadata": {
        "id": "Ug0AbYdStYZD"
      },
      "source": [
        "## outliners removal"
      ]
    },
    {
      "cell_type": "code",
      "metadata": {
        "id": "CN4RRv4S6nK_",
        "cellView": "both"
      },
      "source": [
        "#@title\n",
        "# from numpy import mean\n",
        "# from numpy import std\n",
        "# from numpy import delete\n",
        "# from numpy import savetxt\n",
        "# # load the dataset.\n",
        "# # data = read_csv('EEG_Eye_State.csv', header=None)\n",
        "# values = df[['AF3', 'F7', 'F3', 'FC5', 'T7', 'P7', 'O1', 'O2', 'P8', 'T8', 'FC6', 'F4', 'F8', 'AF4']].to_numpy\n",
        "# # step over each EEG column\n",
        "# for i in range(values.shape[1] - 1):\n",
        "# \t# calculate column mean and standard deviation\n",
        "# \tdata_mean, data_std = mean(values[:,i]), std(values[:,i])\n",
        "# \t# define outlier bounds\n",
        "# \tcut_off = data_std * 4\n",
        "# \tlower, upper = data_mean - cut_off, data_mean + cut_off\n",
        "# \t# remove too small\n",
        "# \ttoo_small = [j for j in range(values.shape[0]) if values[j,i] < lower]\n",
        "# \tvalues = delete(values, too_small, 0)\n",
        "# \tprint('>deleted %d rows' % len(too_small))\n",
        "# \t# remove too large\n",
        "# \ttoo_large = [j for j in range(values.shape[0]) if values[j,i] > upper]\n",
        "# \tvalues = delete(values, too_large, 0)\n",
        "# \tprint('>deleted %d rows' % len(too_large))\n",
        "# \t# concat_outliners = too_small\n",
        "# \t# concat_outliners.extend(too_large)\n",
        "# \t# print(type(concat_outliners))\n",
        "# \t# print(len(concat_outliners))\n",
        "# # save the results to a new file\n",
        "# # savetxt('EEG_Eye_State_no_outliers.csv', values, delimiter=',')"
      ],
      "execution_count": null,
      "outputs": []
    },
    {
      "cell_type": "markdown",
      "metadata": {
        "id": "btKJbxqgtl1c"
      },
      "source": [
        "## outliners remover"
      ]
    },
    {
      "cell_type": "code",
      "metadata": {
        "id": "lyZu8KTYtoFy"
      },
      "source": [
        "# def outliers_remover(data, channel_columns):\n",
        "    #     frame = {} #initialize empty dict to store filtered cols\n",
        "\n",
        "    #     #     channel_columns - само колоните, които съдържат данните от предварително избраните от нас канали , посочени в конфиг файла\n",
        "    #     for column in data[channel_columns]:               \n",
        "    #         # data[column] - избраните колони \n",
        "\n",
        "    #         # y - данни за поредната колона от списъка channel_columns\n",
        "    #         y = data[column]\n",
        "    #         data_mean, data_std = np.mean(y), np.std(y)\n",
        "    #         cut_off = data_std * 3\n",
        "    #         lower, upper = data_mean - cut_off, data_mean + cut_off\n",
        "    #         # print(lower, upper)\n",
        "    #         outliers = [x for x in y if x < lower or x > upper]\n",
        "    #         # remove outliers\n",
        "    #         outliers_removed = [x for x in y if x >= lower and x <= upper]\n",
        "    #         filtered_col = pd.Series(data=outliers_removed)\n",
        "    #         frame.update( { str(column) : filtered_column } )\n",
        "    #         aaa = pd.DataFrame(frame)\n",
        "    #         aaa.insert(0,'Time128Hz',data['Time128Hz'])\n",
        "    #     return aaa\n",
        "\n",
        "# aaa = outliers_remover(df, channel_columns)\n",
        "# aaa.to_csv('data.csv', index=None, sep=',')\n",
        "aaa.head()"
      ],
      "execution_count": null,
      "outputs": []
    },
    {
      "cell_type": "code",
      "metadata": {
        "id": "5aQNqX47yEQD"
      },
      "source": [
        "df.head()"
      ],
      "execution_count": null,
      "outputs": []
    },
    {
      "cell_type": "code",
      "metadata": {
        "id": "E7FhZzTfydx6"
      },
      "source": [
        "# seconds = 128 * 0.2\n",
        "# plt.plot(df.Time128Hz, df[:,:-1],color='black',LineWidth=1.0,label='Noisy')\n",
        "# plt.plot(aaa.Time128Hz, aaa.AF3,color='y',LineWidth=1.0,label='filtered')\n",
        "# plt.show()\n",
        "# plt.plot(df.loc[1500:3500, df.columns == 'AF3'])\n",
        "plt.plot(aaa.loc[1500:1628, aaa.columns == 'AF3'], color='black',LineWidth=1.25)\n",
        "plt.plot(dsp_data.loc[1500:1628, dsp_data.columns == 'FC5'], color='yellow',LineWidth=1.25)\n",
        "# plt.plot(dsp_data.loc[1500:1628, dsp_data.columns == 'AF3'], color='orange',LineWidth=1.25)\n",
        "# plt.plot(fft_data.loc[:, fft_data.columns == 'AF3'], color='orange',LineWidth=1.25)"
      ],
      "execution_count": null,
      "outputs": []
    },
    {
      "cell_type": "code",
      "metadata": {
        "id": "UDoiyefU3URA"
      },
      "source": [
        "df_signals = df.loc[:, df.columns != 'Time128Hz'].to_numpy()\n",
        "df_times = df.loc[:, df.columns == 'Time128Hz'].to_numpy()\n",
        "\n",
        "# dsp_signals = dsp_data.loc[1500:3500, dsp_data.columns != 'Time128Hz'].to_numpy()\n",
        "# dsp_times = dsp_data.loc[1500:3500, dsp_data.columns == 'Time128Hz'].to_numpy()\n",
        "# spike1 = dsp_data.loc[1500:3500, dsp_data.columns == 'FC5']\n",
        "dsp_signals = dsp_data.loc[:, dsp_data.columns != 'Time128Hz'].to_numpy()\n",
        "dsp_times = dsp_data.loc[:, dsp_data.columns == 'Time128Hz'].to_numpy()\n",
        "\n",
        "s = 3\n",
        "offset = int(128 * 1)\n",
        "# ts = offset + int(128 * s)\n",
        "\n",
        "plt.figure()\n",
        "for i in range(dsp_signals.shape[1]):\n",
        "    plt.subplot(dsp_signals.shape[1], 1, i+1)\n",
        "    plt.plot(dsp_times[offset:],dsp_signals[offset:, i],color='orange',LineWidth=1.5,label='Noisy')\n",
        "    # plt.plot(df_times[offset:ts],df_signals[offset:ts, i],color='black',LineWidth=1.25,label='clean')\n",
        "plt.show()\n",
        "\n",
        "plt.plot(df['Time128Hz'], )\n",
        "\n",
        "\n",
        "\n",
        "# for xy in range(0, 2, 1):\n",
        "    #     plt.subplot(signals1.shape[1], 1, xy+1)\n",
        "    #     plt.plot(t1[:128],signals1[:128, xy],color='orange',LineWidth=1.25,label='Noisy')\n",
        "    #     plt.plot(t2[:128],signals2[:128, xy],color='black',LineWidth=1.0,label='clean')\n",
        "    # plt.show()"
      ],
      "execution_count": null,
      "outputs": []
    },
    {
      "cell_type": "code",
      "metadata": {
        "id": "ZECB-jwuBkEp"
      },
      "source": [
        "import numpy as np\n",
        "import matplotlib.pyplot as plt\n",
        "\n",
        "# Fixing random state for reproducibility\n",
        "np.random.seed(19680801)\n",
        "\n",
        "seconds = 2\n",
        "nsamples = seconds * 128\n",
        "\n",
        "dt = 0.01\n",
        "t = t1[:nsamples]\n",
        "# t = np.arange(0, 30, dt)\n",
        "nse1 = np.random.randn(len(t))                 # white noise 1\n",
        "nse2 = np.random.randn(len(t))                 # white noise 2\n",
        "\n",
        "# Two signals with a coherent part at 10Hz and a random part\n",
        "# s1 = np.sin(2 * np.pi * 10 * t) + nse1\n",
        "# s2 = np.sin(2 * np.pi * 10 * t) + nse2\n",
        "s1 = signals1[:nsamples,12]\n",
        "s2 = signals2[:nsamples,2]\n",
        "fig, axs = plt.subplots(2, 1)\n",
        "axs[0].plot(t, s1,color='orange',LineWidth=1.50)#, t, s2,color='black',LineWidth=1.25)\n",
        "axs[0].plot(t, s2,color='black',LineWidth=1.00)#, t, s2,color='black',LineWidth=1.25)\n",
        "# axs[0].set_xlim(0, 7)\n",
        "axs[0].set_xlabel('time')\n",
        "axs[0].set_ylabel('s1 and s2')\n",
        "axs[0].grid(True)\n",
        "\n",
        "cxy, f = axs[1].cohere(s1, s2, 128, 1. / dt)\n",
        "axs[1].set_ylabel('coherence')\n",
        "\n",
        "fig.tight_layout()\n",
        "plt.show()"
      ],
      "execution_count": null,
      "outputs": []
    },
    {
      "cell_type": "code",
      "metadata": {
        "id": "mL2AKYzV7PJy",
        "cellView": "both"
      },
      "source": [
        "# # knn for predicting eye state\n",
        "# from sklearn.metrics import accuracy_score\n",
        "# from sklearn.model_selection import KFold\n",
        "# from sklearn.neighbors import KNeighborsClassifier\n",
        "# from numpy import mean\n",
        "# # load the dataset\n",
        "# data = pd.read_csv('/content/EEG_Eye_State_no_outliers.csv', header=None)\n",
        "# values = data.values\n",
        "# # evaluate knn using 10-fold cross-validation\n",
        "# scores = list()\n",
        "# kfold = KFold(10, shuffle=True, random_state=1)\n",
        "# for train_ix, test_ix in kfold.split(values):\n",
        "# \t# define train/test X/y\n",
        "# \ttrainX, trainy = values[train_ix, :-1], values[train_ix, -1]\n",
        "# \ttestX, testy = values[test_ix, :-1], values[test_ix, -1]\n",
        "# \t# define model\n",
        "# \tmodel = KNeighborsClassifier(n_neighbors=3)\n",
        "# \t# fit model on train set\n",
        "# \tmodel.fit(trainX, trainy)\n",
        "# \t# forecast test set\n",
        "# \tyhat = model.predict(testX)\n",
        "# \t# evaluate predictions\n",
        "# \tscore = accuracy_score(testy, yhat)\n",
        "# \t# store\n",
        "# \tscores.append(score)\n",
        "# \tprint('>%.3f' % score)\n",
        "# # calculate mean score across each run\n",
        "# print('Final Score: %.3f' % (mean(scores)))"
      ],
      "execution_count": null,
      "outputs": []
    },
    {
      "cell_type": "code",
      "metadata": {
        "id": "c4iCgZcl9xTp",
        "cellView": "both"
      },
      "source": [
        "# # knn for predicting eye state\n",
        "# from sklearn.metrics import accuracy_score\n",
        "# from sklearn.model_selection import train_test_split\n",
        "# from sklearn.neighbors import KNeighborsClassifier\n",
        "# # load the dataset\n",
        "# data = pd.read_csv('/content/EEG_Eye_State_no_outliers.csv', header=None)\n",
        "# values = data.values\n",
        "# # split data into inputs and outputs\n",
        "# X, y = values[:, :-1], values[:, -1]\n",
        "# # split the dataset\n",
        "# trainX, testX, trainy, testy = train_test_split(X, y, test_size=0.1, shuffle=True, random_state=1)\n",
        "# # define model\n",
        "# model = KNeighborsClassifier(n_neighbors=3)\n",
        "# # fit model on train set\n",
        "# model.fit(trainX, trainy)\n",
        "# # forecast test set\n",
        "# yhat = model.predict(testX)\n",
        "# # evaluate predictions\n",
        "# score = accuracy_score(testy, yhat)\n",
        "# print(score)"
      ],
      "execution_count": null,
      "outputs": []
    },
    {
      "cell_type": "code",
      "metadata": {
        "id": "3VWsmH08-PkF",
        "cellView": "both"
      },
      "source": [
        "from sklearn.metrics import accuracy_score\n",
        "from sklearn.model_selection import train_test_split\n",
        "from sklearn.neighbors import KNeighborsClassifier\n",
        "# load the dataset\n",
        "data = pd.read_csv('EEG_Eye_State_no_outliers.csv', header=None)\n",
        "values = data.values\n",
        "# split data into inputs and outputs\n",
        "X, y = values[:, :-1], values[:, -1]\n",
        "# split the dataset\n",
        "trainX, testX, trainy, testy = train_test_split(X, y, test_size=0.1, shuffle=False, random_state=1)\n",
        "# define model\n",
        "model = KNeighborsClassifier(n_neighbors=3)\n",
        "# fit model on train set\n",
        "model.fit(trainX, trainy)\n",
        "# forecast test set\n",
        "yhat = model.predict(testX)\n",
        "# evaluate predictions\n",
        "score = accuracy_score(testy, yhat)\n",
        "print(score)"
      ],
      "execution_count": null,
      "outputs": []
    },
    {
      "cell_type": "markdown",
      "metadata": {
        "id": "9g5-uCb5OeO_"
      },
      "source": [
        "# another input file"
      ]
    },
    {
      "cell_type": "code",
      "metadata": {
        "id": "49qYgjMcKohG"
      },
      "source": [
        "raw_data = '/content/2_KA_VisualnaStimulaciq_14ch.csv'\n",
        "all_cols = ['Time128Hz', 'Epoch', 'AF3', 'F7', 'F3', 'FC5', 'T7', 'P7', 'O1', 'O2', 'P8', 'T8', 'FC6', 'F4', 'F8', 'AF4', 'EventId', 'EventDate', 'EventDuration']\n",
        "def fix_eventid_col(data):\n",
        "  # this should be a func\n",
        "  data.columns = df.columns.str.replace(' ', '')\n",
        "  EventID_NEW = ''\n",
        "  EventID_TO_SET = ''\n",
        "  for index, row in data.iterrows(): #итерираме ред по ред с вградения метод iterrows() от pandas\n",
        "      EventID_NEW = str(row['EventId']) # достъпваме данни чрез име на колона\n",
        "      if EventID_NEW == '0':\n",
        "          data.at[index, 'EventId'] = str(EventID_TO_SET)\n",
        "      else:\n",
        "          EventID_NEW = str(row['EventId'])\n",
        "          EventID_TO_SET = str(row['EventId'])\n",
        "  df.fillna(value=0, inplace=True)\n",
        "  return data\n",
        "\n",
        "\n",
        "def label_data(data):\n",
        "  for index, row in data.iterrows(): #итерираме ред по ред с вградения метод iterrows() от pandas\n",
        "      EventID_value = str(row['EventId']) # достъпваме данни чрез име на колона\n",
        "      if EventID_value == '33025':\n",
        "          # data.at[index, 'EventId'] = str(EventID_TO_SET)\n",
        "          data.at[index, 'EventId'] = 0\n",
        "      elif EventID_value == '33026':\n",
        "          data.at[index, 'EventId'] = 1\n",
        "      else:\n",
        "          data.at[index, 'EventId'] = -1\n",
        "  return data"
      ],
      "execution_count": null,
      "outputs": []
    },
    {
      "cell_type": "code",
      "metadata": {
        "id": "x0BjAnQdRuc_"
      },
      "source": [
        "# we use pandas to read the dataset and specify its feature names\n",
        "df = pd.read_csv(raw_data, header=0)\n",
        "df2 = fix_eventid_col(df)\n",
        "df3 = label_data(df2)\n",
        "values = df3[['AF3', 'F7', 'F3', 'FC5', 'T7', 'P7', 'O1', 'O2', 'P8', 'T8', 'FC6', 'F4', 'F8', 'AF4', 'EventId']].values\n",
        "\n",
        "\n",
        "# all_cols = ['Time128Hz', 'Epoch', 'AF3', 'F7', 'F3', 'F5', 'T7', 'P7', 'O1', 'O2', 'P8', 'T8', 'FC6', 'F4', 'F8', 'AF4', 'EventId', 'EventDate', 'EventDuration']"
      ],
      "execution_count": null,
      "outputs": []
    },
    {
      "cell_type": "code",
      "metadata": {
        "id": "fHsiT1Bb-cUX"
      },
      "source": [
        "plt.figure()\n",
        "for i in range(values.shape[1]):\n",
        "\tplt.subplot(values.shape[1], 1, i+1)\n",
        "\tplt.plot(values[:, i])\n",
        "plt.show()"
      ],
      "execution_count": null,
      "outputs": []
    },
    {
      "cell_type": "markdown",
      "metadata": {
        "id": "VbelpPNbj0dU"
      },
      "source": [
        "# test\n"
      ]
    },
    {
      "cell_type": "code",
      "metadata": {
        "id": "6thZl0gEhO4x"
      },
      "source": [
        "!pip install neurodsp"
      ],
      "execution_count": null,
      "outputs": []
    },
    {
      "cell_type": "code",
      "metadata": {
        "id": "Qr2hWzi5fj0t",
        "cellView": "form"
      },
      "source": [
        "#@title\n",
        "from scipy import signal\n",
        "import neurodsp\n",
        "from neurodsp.utils import create_times\n",
        "\n",
        "\n",
        "b, a = signal.butter(8, 30, 'low', analog=True)\n",
        "w, h = signal.freqs(b, a)\n",
        "plt.semilogx(w, 20 * np.log10(abs(h)))\n",
        "plt.title('Butterworth filter frequency response')\n",
        "plt.xlabel('Frequency [radians / second]')\n",
        "plt.ylabel('Amplitude [dB]')\n",
        "plt.margins(0, 0.1)\n",
        "plt.grid(which='both', axis='both')\n",
        "plt.axvline(100, color='green') # cutoff frequency\n",
        "plt.show()\n",
        "\n",
        "\n",
        "s1 = df3['AF3'].to_numpy()\n",
        "print(s1)\n",
        "fs = 128\n",
        "times = create_times(len(s1)/fs, fs)\n",
        "\n",
        "t = np.linspace(0, 1, 1000, False)  # 1 second\n",
        "sig = np.sin(2*np.pi*10*t) + np.sin(2*np.pi*20*t)\n",
        "sig = s1\n",
        "fig, (ax1, ax2) = plt.subplots(2, 1, sharex=True)\n",
        "ax1.plot(times, sig)\n",
        "ax1.set_title('10 Hz and 20 Hz sinusoids')\n",
        "# ax1.axis([0, 1, -2, 2])\n",
        "\n",
        "sos = signal.butter(20, 50, 'hp', fs=128, output='sos')\n",
        "filtered = signal.sosfilt(sos, sig)\n",
        "ax2.plot(times, filtered)\n",
        "ax2.set_title('After 15 Hz high-pass filter')\n",
        "# ax2.axis([0, 1, -20, 20])\n",
        "ax2.set_xlabel('Time [seconds]')\n",
        "plt.tight_layout()\n",
        "plt.show()\n",
        "\n",
        "\n",
        "# sig = df3.AF4.values\n",
        "# fs = 128\n",
        "# times = create_times(len(sig)/fs, fs)\n",
        "\n",
        "# # t = np.linspace(0,1,1000,False)\n",
        "\n",
        "# fig, (ax1, ax2) = plt.subplots(2, 1, sharex=True)\n",
        "# ax1.plot(times, sig)\n",
        "# ax1.set_title('10 Hz and 20 Hz sinusoids')\n",
        "ax1.axis([0, 1, -2, 2])\n",
        "# sos = signal.butter(8, 30, 'hp', fs=128, output='sos')\n",
        "# filtered = signal.sosfilt(sos, sig)\n",
        "# ax2.plot(times, filtered)\n",
        "# ax2.set_title('After 15 Hz high-pass filter')\n",
        "ax2.axis([0, 1, -2, 2])\n",
        "# ax2.set_xlabel('Time [seconds]')\n",
        "# plt.tight_layout()\n",
        "# plt.show()\n",
        "# print(times)"
      ],
      "execution_count": null,
      "outputs": []
    },
    {
      "cell_type": "markdown",
      "metadata": {
        "id": "F77ECwnOGVBX"
      },
      "source": [
        "# EEG Plotly"
      ]
    },
    {
      "cell_type": "code",
      "metadata": {
        "id": "Fhr0SaQBf55U"
      },
      "source": [
        "from plotly import tools\n",
        "from plotly.graph_objs import Layout, YAxis, Scatter, Annotation, Annotations, Data, Figure, Marker, Font"
      ],
      "execution_count": null,
      "outputs": []
    },
    {
      "cell_type": "code",
      "metadata": {
        "id": "DEGAkN_bGizL"
      },
      "source": [
        "n_channels = 14\n"
      ],
      "execution_count": null,
      "outputs": []
    },
    {
      "cell_type": "code",
      "metadata": {
        "id": "EiSAwPlWG2yt"
      },
      "source": [
        ""
      ],
      "execution_count": null,
      "outputs": []
    },
    {
      "cell_type": "markdown",
      "metadata": {
        "id": "Qc_8GGs-jB83"
      },
      "source": [
        "# Plottting example EEGLAB FILE"
      ]
    },
    {
      "cell_type": "code",
      "metadata": {
        "id": "Mft7UOuZjaYt"
      },
      "source": [
        "import pandas as pd\n",
        "import matplotlib.pyplot as plt\n",
        "import numpy as np\n",
        "from scipy.signal import find_peaks\n",
        "\n",
        "openbci_datapath = '../record.txt'\n",
        "sample_rate = 250\n",
        "\n",
        "data = pd.read_csv(openbci_datapath, sep=\",\", header=6, index_col=False, names=['index', 'ch1', 'ch2', 'ch3', 'ch4', 'ch5', 'ch6', 'ch7', 'ch8', 'A5', 'A6', 'A7', 'Time', 'TimeStamp'], usecols=['ch1', 'ch2', 'ch3', 'ch4', 'ch5', 'ch6', 'ch7', 'ch8', 'A7', 'TimeStamp'])\n",
        "print(\"OpenBCI data shape: \", data.shape)"
      ],
      "execution_count": null,
      "outputs": []
    },
    {
      "cell_type": "code",
      "metadata": {
        "id": "d1tQRPUgjacu"
      },
      "source": [
        ""
      ],
      "execution_count": null,
      "outputs": []
    },
    {
      "cell_type": "code",
      "metadata": {
        "id": "lFW3q7T-jaM4"
      },
      "source": [
        ""
      ],
      "execution_count": null,
      "outputs": []
    },
    {
      "cell_type": "code",
      "metadata": {
        "id": "vZ-DJ0d1VydP"
      },
      "source": [
        ""
      ],
      "execution_count": null,
      "outputs": []
    }
  ]
}