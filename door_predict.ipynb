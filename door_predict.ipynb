{
  "nbformat": 4,
  "nbformat_minor": 0,
  "metadata": {
    "colab": {
      "name": "door_predict.ipynb",
      "provenance": [],
      "authorship_tag": "ABX9TyNRPI+pDqzzGdkb9HtC5OKK",
      "include_colab_link": true
    },
    "kernelspec": {
      "name": "python3",
      "display_name": "Python 3"
    }
  },
  "cells": [
    {
      "cell_type": "markdown",
      "metadata": {
        "id": "view-in-github",
        "colab_type": "text"
      },
      "source": [
        "<a href=\"https://colab.research.google.com/github/YYx00xZZ/colabBackup/blob/master/door_predict.ipynb\" target=\"_parent\"><img src=\"https://colab.research.google.com/assets/colab-badge.svg\" alt=\"Open In Colab\"/></a>"
      ]
    },
    {
      "cell_type": "code",
      "metadata": {
        "id": "F_kFolYUVcJQ",
        "outputId": "39e4f2e2-87ff-4964-daa4-a1774614e7f7",
        "colab": {
          "base_uri": "https://localhost:8080/",
          "height": 173
        }
      },
      "source": [
        "import numpy as np\n",
        "import pandas as pd\n",
        "df = pd.read_csv('/content/occurrences.csv')\n",
        "df.describe()"
      ],
      "execution_count": 1,
      "outputs": [
        {
          "output_type": "execute_result",
          "data": {
            "text/html": [
              "<div>\n",
              "<style scoped>\n",
              "    .dataframe tbody tr th:only-of-type {\n",
              "        vertical-align: middle;\n",
              "    }\n",
              "\n",
              "    .dataframe tbody tr th {\n",
              "        vertical-align: top;\n",
              "    }\n",
              "\n",
              "    .dataframe thead th {\n",
              "        text-align: right;\n",
              "    }\n",
              "</style>\n",
              "<table border=\"1\" class=\"dataframe\">\n",
              "  <thead>\n",
              "    <tr style=\"text-align: right;\">\n",
              "      <th></th>\n",
              "      <th>_id</th>\n",
              "      <th>topic</th>\n",
              "      <th>payload</th>\n",
              "      <th>time</th>\n",
              "    </tr>\n",
              "  </thead>\n",
              "  <tbody>\n",
              "    <tr>\n",
              "      <th>count</th>\n",
              "      <td>646</td>\n",
              "      <td>646</td>\n",
              "      <td>646</td>\n",
              "      <td>646</td>\n",
              "    </tr>\n",
              "    <tr>\n",
              "      <th>unique</th>\n",
              "      <td>646</td>\n",
              "      <td>11</td>\n",
              "      <td>142</td>\n",
              "      <td>646</td>\n",
              "    </tr>\n",
              "    <tr>\n",
              "      <th>top</th>\n",
              "      <td>5edc4c76699c39495d1c40c5</td>\n",
              "      <td>nNode/node1/axons/door</td>\n",
              "      <td>DOOR CLOSED</td>\n",
              "      <td>2020-06-07 07:25:21.111</td>\n",
              "    </tr>\n",
              "    <tr>\n",
              "      <th>freq</th>\n",
              "      <td>1</td>\n",
              "      <td>251</td>\n",
              "      <td>93</td>\n",
              "      <td>1</td>\n",
              "    </tr>\n",
              "  </tbody>\n",
              "</table>\n",
              "</div>"
            ],
            "text/plain": [
              "                             _id  ...                     time\n",
              "count                        646  ...                      646\n",
              "unique                       646  ...                      646\n",
              "top     5edc4c76699c39495d1c40c5  ...  2020-06-07 07:25:21.111\n",
              "freq                           1  ...                        1\n",
              "\n",
              "[4 rows x 4 columns]"
            ]
          },
          "metadata": {
            "tags": []
          },
          "execution_count": 1
        }
      ]
    },
    {
      "cell_type": "code",
      "metadata": {
        "id": "2l4_V4p1Vvag",
        "outputId": "68b05893-aa0a-4adb-8e0d-5c8fce1d1f69",
        "colab": {
          "base_uri": "https://localhost:8080/"
        }
      },
      "source": [
        "df.dtypes"
      ],
      "execution_count": 2,
      "outputs": [
        {
          "output_type": "execute_result",
          "data": {
            "text/plain": [
              "_id        object\n",
              "topic      object\n",
              "payload    object\n",
              "time       object\n",
              "dtype: object"
            ]
          },
          "metadata": {
            "tags": []
          },
          "execution_count": 2
        }
      ]
    },
    {
      "cell_type": "code",
      "metadata": {
        "id": "YdFm8xOTV0Hk"
      },
      "source": [
        "door_df = df[(df['topic'] == 'nNode/node1/axons/door') | (df['topic'] == 'nNode/node1/axons/door/')]"
      ],
      "execution_count": 3,
      "outputs": []
    },
    {
      "cell_type": "code",
      "metadata": {
        "id": "nQpwQa-0WDh0",
        "outputId": "11c7503e-1465-40b0-f046-66a9d6d015a2",
        "colab": {
          "base_uri": "https://localhost:8080/"
        }
      },
      "source": [
        "door_df['payload'] = door_df['payload'].apply(lambda x: x.upper())"
      ],
      "execution_count": 4,
      "outputs": [
        {
          "output_type": "stream",
          "text": [
            "/usr/local/lib/python3.6/dist-packages/ipykernel_launcher.py:1: SettingWithCopyWarning: \n",
            "A value is trying to be set on a copy of a slice from a DataFrame.\n",
            "Try using .loc[row_indexer,col_indexer] = value instead\n",
            "\n",
            "See the caveats in the documentation: https://pandas.pydata.org/pandas-docs/stable/user_guide/indexing.html#returning-a-view-versus-a-copy\n",
            "  \"\"\"Entry point for launching an IPython kernel.\n"
          ],
          "name": "stderr"
        }
      ]
    },
    {
      "cell_type": "code",
      "metadata": {
        "id": "x1CNl5LLWiNc",
        "outputId": "a85a2d22-7dd7-4fcf-ef19-63a629b2198c",
        "colab": {
          "base_uri": "https://localhost:8080/"
        }
      },
      "source": [
        "door_df.payload.unique()"
      ],
      "execution_count": 5,
      "outputs": [
        {
          "output_type": "execute_result",
          "data": {
            "text/plain": [
              "array(['DOOR OPENED', 'DOOR CLOSED', 'PUBLISHED DEMEK SUBD', 'HELLO #0',\n",
              "       '0', 'HELLO #1', 'HELLO #2', 'HELLO #3', 'HELLO #4', 'HELLO #5',\n",
              "       'HELLO #6', 'OPENED', 'CONNECTED', '1', 'NSH SI 1', 'NSH SI 0',\n",
              "       'D GATE IS 1', 'D GATE IS 0', 'CLOSED', 'D GATE IS OPENED',\n",
              "       'D GATE IS CLOSED'], dtype=object)"
            ]
          },
          "metadata": {
            "tags": []
          },
          "execution_count": 5
        }
      ]
    },
    {
      "cell_type": "code",
      "metadata": {
        "id": "fE1NnL8PXECN"
      },
      "source": [
        "# alg. 1\n",
        "to_keep = ['DOOR OPENED', 'DOOR CLOSED', 'OPENED', 'CLOSED', 'D GATE IS 1', 'D GATE IS 0', 'D GATE IS OPENED', 'D GATE IS CLOSED', '0', '1']\n",
        "def filter_ids(data, to_keep):\n",
        "    for index, row in data.iterrows():\n",
        "        current = str(row['payload'])\n",
        "        print(current)\n",
        "        if current in to_keep:\n",
        "            pass"
      ],
      "execution_count": 6,
      "outputs": []
    },
    {
      "cell_type": "code",
      "metadata": {
        "id": "vhYkoyvZb2Vc"
      },
      "source": [
        "df = door_df.loc[door_df['payload'].isin(to_keep)]"
      ],
      "execution_count": 7,
      "outputs": []
    },
    {
      "cell_type": "code",
      "metadata": {
        "id": "6AI1Tkoma-nY",
        "outputId": "16adb04b-c66e-43fe-d9c5-57df01635e0a",
        "colab": {
          "base_uri": "https://localhost:8080/"
        }
      },
      "source": [
        "df.payload.unique()"
      ],
      "execution_count": 8,
      "outputs": [
        {
          "output_type": "execute_result",
          "data": {
            "text/plain": [
              "array(['DOOR OPENED', 'DOOR CLOSED', '0', 'OPENED', '1', 'D GATE IS 1',\n",
              "       'D GATE IS 0', 'CLOSED', 'D GATE IS OPENED', 'D GATE IS CLOSED'],\n",
              "      dtype=object)"
            ]
          },
          "metadata": {
            "tags": []
          },
          "execution_count": 8
        }
      ]
    },
    {
      "cell_type": "code",
      "metadata": {
        "id": "FRd3yl-ocn20",
        "outputId": "10a15bf7-5502-4625-9014-44bfc39e46da",
        "colab": {
          "base_uri": "https://localhost:8080/"
        }
      },
      "source": [
        "# ['DOOR OPENED', 'DOOR CLOSED', '0', 'OPENED', '1', 'D GATE IS 1','D GATE IS 0', 'CLOSED', 'D GATE IS OPENED', 'D GATE IS CLOSED']\n",
        "df['payload'] = df['payload'].map({'DOOR OPENED':1,'OPENED':1,'1':1,'D GATE IS 1':1,'D GATE IS OPENED':1,'DOOR CLOSED':0,'0':0,'D GATE IS 0':0,'CLOSED':0,'D GATE IS CLOSED':0})"
      ],
      "execution_count": 9,
      "outputs": [
        {
          "output_type": "stream",
          "text": [
            "/usr/local/lib/python3.6/dist-packages/ipykernel_launcher.py:2: SettingWithCopyWarning: \n",
            "A value is trying to be set on a copy of a slice from a DataFrame.\n",
            "Try using .loc[row_indexer,col_indexer] = value instead\n",
            "\n",
            "See the caveats in the documentation: https://pandas.pydata.org/pandas-docs/stable/user_guide/indexing.html#returning-a-view-versus-a-copy\n",
            "  \n"
          ],
          "name": "stderr"
        }
      ]
    },
    {
      "cell_type": "code",
      "metadata": {
        "id": "_wb4UNKea-9X",
        "outputId": "5097b1e9-f3d3-4137-dff6-d0f7aba1b5f8",
        "colab": {
          "base_uri": "https://localhost:8080/"
        }
      },
      "source": [
        "df['time'] = pd.to_datetime(df['time'])"
      ],
      "execution_count": 10,
      "outputs": [
        {
          "output_type": "stream",
          "text": [
            "/usr/local/lib/python3.6/dist-packages/ipykernel_launcher.py:1: SettingWithCopyWarning: \n",
            "A value is trying to be set on a copy of a slice from a DataFrame.\n",
            "Try using .loc[row_indexer,col_indexer] = value instead\n",
            "\n",
            "See the caveats in the documentation: https://pandas.pydata.org/pandas-docs/stable/user_guide/indexing.html#returning-a-view-versus-a-copy\n",
            "  \"\"\"Entry point for launching an IPython kernel.\n"
          ],
          "name": "stderr"
        }
      ]
    },
    {
      "cell_type": "code",
      "metadata": {
        "id": "jmUMPp9GdNwh",
        "outputId": "5c0aed23-4f7f-4911-c407-a2c7dbc56518",
        "colab": {
          "base_uri": "https://localhost:8080/",
          "height": 204
        }
      },
      "source": [
        "basic_df = df\n",
        "basic_df.head()"
      ],
      "execution_count": 11,
      "outputs": [
        {
          "output_type": "execute_result",
          "data": {
            "text/html": [
              "<div>\n",
              "<style scoped>\n",
              "    .dataframe tbody tr th:only-of-type {\n",
              "        vertical-align: middle;\n",
              "    }\n",
              "\n",
              "    .dataframe tbody tr th {\n",
              "        vertical-align: top;\n",
              "    }\n",
              "\n",
              "    .dataframe thead th {\n",
              "        text-align: right;\n",
              "    }\n",
              "</style>\n",
              "<table border=\"1\" class=\"dataframe\">\n",
              "  <thead>\n",
              "    <tr style=\"text-align: right;\">\n",
              "      <th></th>\n",
              "      <th>_id</th>\n",
              "      <th>topic</th>\n",
              "      <th>payload</th>\n",
              "      <th>time</th>\n",
              "    </tr>\n",
              "  </thead>\n",
              "  <tbody>\n",
              "    <tr>\n",
              "      <th>45</th>\n",
              "      <td>5ec0247832b7f25e03dc4db5</td>\n",
              "      <td>nNode/node1/axons/door</td>\n",
              "      <td>1</td>\n",
              "      <td>2020-05-16 18:35:52.157</td>\n",
              "    </tr>\n",
              "    <tr>\n",
              "      <th>46</th>\n",
              "      <td>5ec0247d32b7f25e03dc4db6</td>\n",
              "      <td>nNode/node1/axons/door</td>\n",
              "      <td>0</td>\n",
              "      <td>2020-05-16 18:35:57.526</td>\n",
              "    </tr>\n",
              "    <tr>\n",
              "      <th>47</th>\n",
              "      <td>5ec026ea32b7f25e03dc4db7</td>\n",
              "      <td>nNode/node1/axons/door</td>\n",
              "      <td>1</td>\n",
              "      <td>2020-05-16 18:46:18.472</td>\n",
              "    </tr>\n",
              "    <tr>\n",
              "      <th>48</th>\n",
              "      <td>5ec026ef32b7f25e03dc4db8</td>\n",
              "      <td>nNode/node1/axons/door</td>\n",
              "      <td>0</td>\n",
              "      <td>2020-05-16 18:46:23.830</td>\n",
              "    </tr>\n",
              "    <tr>\n",
              "      <th>50</th>\n",
              "      <td>5ec027aa32b7f25e03dc4dba</td>\n",
              "      <td>nNode/node1/axons/door</td>\n",
              "      <td>0</td>\n",
              "      <td>2020-05-16 18:49:30.790</td>\n",
              "    </tr>\n",
              "  </tbody>\n",
              "</table>\n",
              "</div>"
            ],
            "text/plain": [
              "                         _id  ...                    time\n",
              "45  5ec0247832b7f25e03dc4db5  ... 2020-05-16 18:35:52.157\n",
              "46  5ec0247d32b7f25e03dc4db6  ... 2020-05-16 18:35:57.526\n",
              "47  5ec026ea32b7f25e03dc4db7  ... 2020-05-16 18:46:18.472\n",
              "48  5ec026ef32b7f25e03dc4db8  ... 2020-05-16 18:46:23.830\n",
              "50  5ec027aa32b7f25e03dc4dba  ... 2020-05-16 18:49:30.790\n",
              "\n",
              "[5 rows x 4 columns]"
            ]
          },
          "metadata": {
            "tags": []
          },
          "execution_count": 11
        }
      ]
    },
    {
      "cell_type": "code",
      "metadata": {
        "id": "Y_WHZmXwd-E4",
        "outputId": "35f24c6d-1bbb-4a37-f0d2-dc40114c7654",
        "colab": {
          "base_uri": "https://localhost:8080/"
        }
      },
      "source": [
        "df.dtypes"
      ],
      "execution_count": 12,
      "outputs": [
        {
          "output_type": "execute_result",
          "data": {
            "text/plain": [
              "_id                object\n",
              "topic              object\n",
              "payload             int64\n",
              "time       datetime64[ns]\n",
              "dtype: object"
            ]
          },
          "metadata": {
            "tags": []
          },
          "execution_count": 12
        }
      ]
    },
    {
      "cell_type": "code",
      "metadata": {
        "id": "JLXEs7jpd_Ml",
        "outputId": "88c27d9f-a223-48ae-edf3-dcd9deca24b5",
        "colab": {
          "base_uri": "https://localhost:8080/"
        }
      },
      "source": [
        "df['year']= df['time'].dt.year\n",
        "df['month']= df['time'].dt.month\n",
        "df['day']= df['time'].dt.day"
      ],
      "execution_count": 13,
      "outputs": [
        {
          "output_type": "stream",
          "text": [
            "/usr/local/lib/python3.6/dist-packages/ipykernel_launcher.py:1: SettingWithCopyWarning: \n",
            "A value is trying to be set on a copy of a slice from a DataFrame.\n",
            "Try using .loc[row_indexer,col_indexer] = value instead\n",
            "\n",
            "See the caveats in the documentation: https://pandas.pydata.org/pandas-docs/stable/user_guide/indexing.html#returning-a-view-versus-a-copy\n",
            "  \"\"\"Entry point for launching an IPython kernel.\n",
            "/usr/local/lib/python3.6/dist-packages/ipykernel_launcher.py:2: SettingWithCopyWarning: \n",
            "A value is trying to be set on a copy of a slice from a DataFrame.\n",
            "Try using .loc[row_indexer,col_indexer] = value instead\n",
            "\n",
            "See the caveats in the documentation: https://pandas.pydata.org/pandas-docs/stable/user_guide/indexing.html#returning-a-view-versus-a-copy\n",
            "  \n",
            "/usr/local/lib/python3.6/dist-packages/ipykernel_launcher.py:3: SettingWithCopyWarning: \n",
            "A value is trying to be set on a copy of a slice from a DataFrame.\n",
            "Try using .loc[row_indexer,col_indexer] = value instead\n",
            "\n",
            "See the caveats in the documentation: https://pandas.pydata.org/pandas-docs/stable/user_guide/indexing.html#returning-a-view-versus-a-copy\n",
            "  This is separate from the ipykernel package so we can avoid doing imports until\n"
          ],
          "name": "stderr"
        }
      ]
    },
    {
      "cell_type": "code",
      "metadata": {
        "id": "cCiLxI_lep0l",
        "outputId": "9acb791e-2c9f-4ea4-beb5-71983b4f96f8",
        "colab": {
          "base_uri": "https://localhost:8080/"
        }
      },
      "source": [
        "df['hour']= df['time'].dt.hour\n",
        "df['min']= df['time'].dt.minute\n",
        "df['sec']= df['time'].dt.second"
      ],
      "execution_count": 14,
      "outputs": [
        {
          "output_type": "stream",
          "text": [
            "/usr/local/lib/python3.6/dist-packages/ipykernel_launcher.py:1: SettingWithCopyWarning: \n",
            "A value is trying to be set on a copy of a slice from a DataFrame.\n",
            "Try using .loc[row_indexer,col_indexer] = value instead\n",
            "\n",
            "See the caveats in the documentation: https://pandas.pydata.org/pandas-docs/stable/user_guide/indexing.html#returning-a-view-versus-a-copy\n",
            "  \"\"\"Entry point for launching an IPython kernel.\n",
            "/usr/local/lib/python3.6/dist-packages/ipykernel_launcher.py:2: SettingWithCopyWarning: \n",
            "A value is trying to be set on a copy of a slice from a DataFrame.\n",
            "Try using .loc[row_indexer,col_indexer] = value instead\n",
            "\n",
            "See the caveats in the documentation: https://pandas.pydata.org/pandas-docs/stable/user_guide/indexing.html#returning-a-view-versus-a-copy\n",
            "  \n",
            "/usr/local/lib/python3.6/dist-packages/ipykernel_launcher.py:3: SettingWithCopyWarning: \n",
            "A value is trying to be set on a copy of a slice from a DataFrame.\n",
            "Try using .loc[row_indexer,col_indexer] = value instead\n",
            "\n",
            "See the caveats in the documentation: https://pandas.pydata.org/pandas-docs/stable/user_guide/indexing.html#returning-a-view-versus-a-copy\n",
            "  This is separate from the ipykernel package so we can avoid doing imports until\n"
          ],
          "name": "stderr"
        }
      ]
    },
    {
      "cell_type": "code",
      "metadata": {
        "id": "k3NFuEdjetgl",
        "outputId": "14ff2e37-39e3-41fd-aa63-8c91959632ca",
        "colab": {
          "base_uri": "https://localhost:8080/",
          "height": 669
        }
      },
      "source": [
        "df.groupby(by=[\"day\"]).count()\n",
        "a_day = df[df[\"day\"] == 16]\n",
        "a_day.head(20)"
      ],
      "execution_count": 15,
      "outputs": [
        {
          "output_type": "execute_result",
          "data": {
            "text/html": [
              "<div>\n",
              "<style scoped>\n",
              "    .dataframe tbody tr th:only-of-type {\n",
              "        vertical-align: middle;\n",
              "    }\n",
              "\n",
              "    .dataframe tbody tr th {\n",
              "        vertical-align: top;\n",
              "    }\n",
              "\n",
              "    .dataframe thead th {\n",
              "        text-align: right;\n",
              "    }\n",
              "</style>\n",
              "<table border=\"1\" class=\"dataframe\">\n",
              "  <thead>\n",
              "    <tr style=\"text-align: right;\">\n",
              "      <th></th>\n",
              "      <th>_id</th>\n",
              "      <th>topic</th>\n",
              "      <th>payload</th>\n",
              "      <th>time</th>\n",
              "      <th>year</th>\n",
              "      <th>month</th>\n",
              "      <th>day</th>\n",
              "      <th>hour</th>\n",
              "      <th>min</th>\n",
              "      <th>sec</th>\n",
              "    </tr>\n",
              "  </thead>\n",
              "  <tbody>\n",
              "    <tr>\n",
              "      <th>45</th>\n",
              "      <td>5ec0247832b7f25e03dc4db5</td>\n",
              "      <td>nNode/node1/axons/door</td>\n",
              "      <td>1</td>\n",
              "      <td>2020-05-16 18:35:52.157</td>\n",
              "      <td>2020</td>\n",
              "      <td>5</td>\n",
              "      <td>16</td>\n",
              "      <td>18</td>\n",
              "      <td>35</td>\n",
              "      <td>52</td>\n",
              "    </tr>\n",
              "    <tr>\n",
              "      <th>46</th>\n",
              "      <td>5ec0247d32b7f25e03dc4db6</td>\n",
              "      <td>nNode/node1/axons/door</td>\n",
              "      <td>0</td>\n",
              "      <td>2020-05-16 18:35:57.526</td>\n",
              "      <td>2020</td>\n",
              "      <td>5</td>\n",
              "      <td>16</td>\n",
              "      <td>18</td>\n",
              "      <td>35</td>\n",
              "      <td>57</td>\n",
              "    </tr>\n",
              "    <tr>\n",
              "      <th>47</th>\n",
              "      <td>5ec026ea32b7f25e03dc4db7</td>\n",
              "      <td>nNode/node1/axons/door</td>\n",
              "      <td>1</td>\n",
              "      <td>2020-05-16 18:46:18.472</td>\n",
              "      <td>2020</td>\n",
              "      <td>5</td>\n",
              "      <td>16</td>\n",
              "      <td>18</td>\n",
              "      <td>46</td>\n",
              "      <td>18</td>\n",
              "    </tr>\n",
              "    <tr>\n",
              "      <th>48</th>\n",
              "      <td>5ec026ef32b7f25e03dc4db8</td>\n",
              "      <td>nNode/node1/axons/door</td>\n",
              "      <td>0</td>\n",
              "      <td>2020-05-16 18:46:23.830</td>\n",
              "      <td>2020</td>\n",
              "      <td>5</td>\n",
              "      <td>16</td>\n",
              "      <td>18</td>\n",
              "      <td>46</td>\n",
              "      <td>23</td>\n",
              "    </tr>\n",
              "    <tr>\n",
              "      <th>50</th>\n",
              "      <td>5ec027aa32b7f25e03dc4dba</td>\n",
              "      <td>nNode/node1/axons/door</td>\n",
              "      <td>0</td>\n",
              "      <td>2020-05-16 18:49:30.790</td>\n",
              "      <td>2020</td>\n",
              "      <td>5</td>\n",
              "      <td>16</td>\n",
              "      <td>18</td>\n",
              "      <td>49</td>\n",
              "      <td>30</td>\n",
              "    </tr>\n",
              "    <tr>\n",
              "      <th>52</th>\n",
              "      <td>5ec02d9d32b7f25e03dc4dbc</td>\n",
              "      <td>nNode/node1/axons/door</td>\n",
              "      <td>0</td>\n",
              "      <td>2020-05-16 19:14:53.525</td>\n",
              "      <td>2020</td>\n",
              "      <td>5</td>\n",
              "      <td>16</td>\n",
              "      <td>19</td>\n",
              "      <td>14</td>\n",
              "      <td>53</td>\n",
              "    </tr>\n",
              "    <tr>\n",
              "      <th>54</th>\n",
              "      <td>5ec02dad32b7f25e03dc4dbe</td>\n",
              "      <td>nNode/node1/axons/door</td>\n",
              "      <td>0</td>\n",
              "      <td>2020-05-16 19:15:09.899</td>\n",
              "      <td>2020</td>\n",
              "      <td>5</td>\n",
              "      <td>16</td>\n",
              "      <td>19</td>\n",
              "      <td>15</td>\n",
              "      <td>9</td>\n",
              "    </tr>\n",
              "    <tr>\n",
              "      <th>61</th>\n",
              "      <td>5ec02f0032b7f25e03dc4dc5</td>\n",
              "      <td>nNode/node1/axons/door</td>\n",
              "      <td>0</td>\n",
              "      <td>2020-05-16 19:20:48.179</td>\n",
              "      <td>2020</td>\n",
              "      <td>5</td>\n",
              "      <td>16</td>\n",
              "      <td>19</td>\n",
              "      <td>20</td>\n",
              "      <td>48</td>\n",
              "    </tr>\n",
              "    <tr>\n",
              "      <th>62</th>\n",
              "      <td>5ec036e132b7f25e03dc4dc6</td>\n",
              "      <td>nNode/node1/axons/door</td>\n",
              "      <td>1</td>\n",
              "      <td>2020-05-16 19:54:25.109</td>\n",
              "      <td>2020</td>\n",
              "      <td>5</td>\n",
              "      <td>16</td>\n",
              "      <td>19</td>\n",
              "      <td>54</td>\n",
              "      <td>25</td>\n",
              "    </tr>\n",
              "    <tr>\n",
              "      <th>63</th>\n",
              "      <td>5ec036e832b7f25e03dc4dc7</td>\n",
              "      <td>nNode/node1/axons/door</td>\n",
              "      <td>0</td>\n",
              "      <td>2020-05-16 19:54:32.472</td>\n",
              "      <td>2020</td>\n",
              "      <td>5</td>\n",
              "      <td>16</td>\n",
              "      <td>19</td>\n",
              "      <td>54</td>\n",
              "      <td>32</td>\n",
              "    </tr>\n",
              "    <tr>\n",
              "      <th>64</th>\n",
              "      <td>5ec0489d32b7f25e03dc4dc8</td>\n",
              "      <td>nNode/node1/axons/door</td>\n",
              "      <td>1</td>\n",
              "      <td>2020-05-16 21:10:05.623</td>\n",
              "      <td>2020</td>\n",
              "      <td>5</td>\n",
              "      <td>16</td>\n",
              "      <td>21</td>\n",
              "      <td>10</td>\n",
              "      <td>5</td>\n",
              "    </tr>\n",
              "    <tr>\n",
              "      <th>65</th>\n",
              "      <td>5ec048bb32b7f25e03dc4dc9</td>\n",
              "      <td>nNode/node1/axons/door</td>\n",
              "      <td>0</td>\n",
              "      <td>2020-05-16 21:10:35.014</td>\n",
              "      <td>2020</td>\n",
              "      <td>5</td>\n",
              "      <td>16</td>\n",
              "      <td>21</td>\n",
              "      <td>10</td>\n",
              "      <td>35</td>\n",
              "    </tr>\n",
              "    <tr>\n",
              "      <th>66</th>\n",
              "      <td>5ec051bc32b7f25e03dc4dca</td>\n",
              "      <td>nNode/node1/axons/door</td>\n",
              "      <td>1</td>\n",
              "      <td>2020-05-16 21:49:00.663</td>\n",
              "      <td>2020</td>\n",
              "      <td>5</td>\n",
              "      <td>16</td>\n",
              "      <td>21</td>\n",
              "      <td>49</td>\n",
              "      <td>0</td>\n",
              "    </tr>\n",
              "    <tr>\n",
              "      <th>67</th>\n",
              "      <td>5ec051c432b7f25e03dc4dcb</td>\n",
              "      <td>nNode/node1/axons/door</td>\n",
              "      <td>0</td>\n",
              "      <td>2020-05-16 21:49:08.034</td>\n",
              "      <td>2020</td>\n",
              "      <td>5</td>\n",
              "      <td>16</td>\n",
              "      <td>21</td>\n",
              "      <td>49</td>\n",
              "      <td>8</td>\n",
              "    </tr>\n",
              "    <tr>\n",
              "      <th>68</th>\n",
              "      <td>5ec0607932b7f25e03dc4dcc</td>\n",
              "      <td>nNode/node1/axons/door</td>\n",
              "      <td>1</td>\n",
              "      <td>2020-05-16 22:51:53.925</td>\n",
              "      <td>2020</td>\n",
              "      <td>5</td>\n",
              "      <td>16</td>\n",
              "      <td>22</td>\n",
              "      <td>51</td>\n",
              "      <td>53</td>\n",
              "    </tr>\n",
              "    <tr>\n",
              "      <th>69</th>\n",
              "      <td>5ec0609132b7f25e03dc4dcd</td>\n",
              "      <td>nNode/node1/axons/door</td>\n",
              "      <td>0</td>\n",
              "      <td>2020-05-16 22:52:17.268</td>\n",
              "      <td>2020</td>\n",
              "      <td>5</td>\n",
              "      <td>16</td>\n",
              "      <td>22</td>\n",
              "      <td>52</td>\n",
              "      <td>17</td>\n",
              "    </tr>\n",
              "    <tr>\n",
              "      <th>590</th>\n",
              "      <td>5ee884a71e2e2670f06b3ecf</td>\n",
              "      <td>nNode/node1/axons/door/</td>\n",
              "      <td>0</td>\n",
              "      <td>2020-06-16 09:36:55.082</td>\n",
              "      <td>2020</td>\n",
              "      <td>6</td>\n",
              "      <td>16</td>\n",
              "      <td>9</td>\n",
              "      <td>36</td>\n",
              "      <td>55</td>\n",
              "    </tr>\n",
              "    <tr>\n",
              "      <th>591</th>\n",
              "      <td>5ee884e81e2e2670f06b3ed0</td>\n",
              "      <td>nNode/node1/axons/door/</td>\n",
              "      <td>1</td>\n",
              "      <td>2020-06-16 09:38:00.381</td>\n",
              "      <td>2020</td>\n",
              "      <td>6</td>\n",
              "      <td>16</td>\n",
              "      <td>9</td>\n",
              "      <td>38</td>\n",
              "      <td>0</td>\n",
              "    </tr>\n",
              "    <tr>\n",
              "      <th>592</th>\n",
              "      <td>5ee884ec1e2e2670f06b3ed1</td>\n",
              "      <td>nNode/node1/axons/door/</td>\n",
              "      <td>0</td>\n",
              "      <td>2020-06-16 09:38:04.431</td>\n",
              "      <td>2020</td>\n",
              "      <td>6</td>\n",
              "      <td>16</td>\n",
              "      <td>9</td>\n",
              "      <td>38</td>\n",
              "      <td>4</td>\n",
              "    </tr>\n",
              "    <tr>\n",
              "      <th>593</th>\n",
              "      <td>5ee886231e2e2670f06b3ed2</td>\n",
              "      <td>nNode/node1/axons/door/</td>\n",
              "      <td>1</td>\n",
              "      <td>2020-06-16 09:43:15.220</td>\n",
              "      <td>2020</td>\n",
              "      <td>6</td>\n",
              "      <td>16</td>\n",
              "      <td>9</td>\n",
              "      <td>43</td>\n",
              "      <td>15</td>\n",
              "    </tr>\n",
              "  </tbody>\n",
              "</table>\n",
              "</div>"
            ],
            "text/plain": [
              "                          _id                    topic  payload  ... hour  min  sec\n",
              "45   5ec0247832b7f25e03dc4db5   nNode/node1/axons/door        1  ...   18   35   52\n",
              "46   5ec0247d32b7f25e03dc4db6   nNode/node1/axons/door        0  ...   18   35   57\n",
              "47   5ec026ea32b7f25e03dc4db7   nNode/node1/axons/door        1  ...   18   46   18\n",
              "48   5ec026ef32b7f25e03dc4db8   nNode/node1/axons/door        0  ...   18   46   23\n",
              "50   5ec027aa32b7f25e03dc4dba   nNode/node1/axons/door        0  ...   18   49   30\n",
              "52   5ec02d9d32b7f25e03dc4dbc   nNode/node1/axons/door        0  ...   19   14   53\n",
              "54   5ec02dad32b7f25e03dc4dbe   nNode/node1/axons/door        0  ...   19   15    9\n",
              "61   5ec02f0032b7f25e03dc4dc5   nNode/node1/axons/door        0  ...   19   20   48\n",
              "62   5ec036e132b7f25e03dc4dc6   nNode/node1/axons/door        1  ...   19   54   25\n",
              "63   5ec036e832b7f25e03dc4dc7   nNode/node1/axons/door        0  ...   19   54   32\n",
              "64   5ec0489d32b7f25e03dc4dc8   nNode/node1/axons/door        1  ...   21   10    5\n",
              "65   5ec048bb32b7f25e03dc4dc9   nNode/node1/axons/door        0  ...   21   10   35\n",
              "66   5ec051bc32b7f25e03dc4dca   nNode/node1/axons/door        1  ...   21   49    0\n",
              "67   5ec051c432b7f25e03dc4dcb   nNode/node1/axons/door        0  ...   21   49    8\n",
              "68   5ec0607932b7f25e03dc4dcc   nNode/node1/axons/door        1  ...   22   51   53\n",
              "69   5ec0609132b7f25e03dc4dcd   nNode/node1/axons/door        0  ...   22   52   17\n",
              "590  5ee884a71e2e2670f06b3ecf  nNode/node1/axons/door/        0  ...    9   36   55\n",
              "591  5ee884e81e2e2670f06b3ed0  nNode/node1/axons/door/        1  ...    9   38    0\n",
              "592  5ee884ec1e2e2670f06b3ed1  nNode/node1/axons/door/        0  ...    9   38    4\n",
              "593  5ee886231e2e2670f06b3ed2  nNode/node1/axons/door/        1  ...    9   43   15\n",
              "\n",
              "[20 rows x 10 columns]"
            ]
          },
          "metadata": {
            "tags": []
          },
          "execution_count": 15
        }
      ]
    },
    {
      "cell_type": "code",
      "metadata": {
        "id": "F6obneoBiMss"
      },
      "source": [
        "import numpy as np\n",
        "import matplotlib.pyplot as plt\n",
        "plt.style.use('seaborn-whitegrid') # Set the aesthetic style of the plots"
      ],
      "execution_count": 16,
      "outputs": []
    },
    {
      "cell_type": "code",
      "metadata": {
        "id": "Xxah2BXlgYqF"
      },
      "source": [
        "basic_df = basic_df[['time', 'payload']]"
      ],
      "execution_count": 25,
      "outputs": []
    },
    {
      "cell_type": "code",
      "metadata": {
        "id": "MIQADsu3lpet",
        "outputId": "6929c8bb-0486-4fcf-d1bc-1faaabf8fbd4",
        "colab": {
          "base_uri": "https://localhost:8080/",
          "height": 371
        }
      },
      "source": [
        "# Time Series Plot\n",
        "plt.figure(figsize=(8,6))\n",
        "# Return the cumulative sum of the elements.\n",
        "# basic_df = basic_df.cumsum()\n",
        "plt.plot(a_day['payload'],a_day['hour'])\n",
        "plt.show()\n",
        "# print(basic_df)"
      ],
      "execution_count": 36,
      "outputs": [
        {
          "output_type": "display_data",
          "data": {
            "image/png": "[encoded data removed]",
            "text/plain": [
              "<Figure size 576x432 with 1 Axes>"
            ]
          },
          "metadata": {
            "tags": []
          }
        }
      ]
    },
    {
      "cell_type": "code",
      "metadata": {
        "id": "jarJ1vqMj0YT"
      },
      "source": [
        "# import pandas as pd\n",
        "# import matplotlib.pyplot as plt \n",
        "# import matplotlib.dates as mdates\n",
        "\n",
        "# # df = pd.read_csv(\"mydataframe.csv\")\n",
        "# # df[\"timestamp\"] = \"2013-06-\" + df[\"Day\"].astype(str).str.zfill(2) + \"-\" + df[\"Hour\"].astype(str).str.zfill(2)\n",
        "# # df[\"timestamp\"] = pd.to_datetime(df[\"timestamp\"], format=\"%Y-%m-%d-%H\")\n",
        "\n",
        "\n",
        "# fig, ax1 = plt.subplots(figsize=(10, 5))\n",
        "# ax1.set(xlabel='', ylabel='Total # of trips started')\n",
        "# ax1.plot(a_day[\"hour\"])\n",
        "# # ax1.plot(df[\"timestamp\"], df.Casual, color='g')\n",
        "# ax1.plot(df[\"timestamp\"], df.Registered, color='b')\n",
        "\n",
        "# ax1.xaxis.set(\n",
        "#     major_locator=mdates.DayLocator(),\n",
        "#     major_formatter=mdates.DateFormatter(\"\\n\\n%A\"),\n",
        "#     minor_locator=mdates.HourLocator((0, 12)),\n",
        "#     minor_formatter=mdates.DateFormatter(\"%H\"),\n",
        "# )\n",
        "# plt.show()"
      ],
      "execution_count": 18,
      "outputs": []
    },
    {
      "cell_type": "code",
      "metadata": {
        "id": "wUZCj2fbj3rR"
      },
      "source": [
        ""
      ],
      "execution_count": 18,
      "outputs": []
    }
  ]
}